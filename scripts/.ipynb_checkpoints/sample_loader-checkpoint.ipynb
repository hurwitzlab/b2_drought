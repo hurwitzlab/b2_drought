{
 "cells": [
  {
   "cell_type": "code",
   "execution_count": 1,
   "metadata": {
    "collapsed": false
   },
   "outputs": [],
   "source": [
    "import graphlab"
   ]
  },
  {
   "cell_type": "code",
   "execution_count": 51,
   "metadata": {
    "collapsed": true
   },
   "outputs": [],
   "source": [
    "#input files\n",
    "dir_csv=\"/Users/aponsero/Documents/UA_POSTDOC/projects/B2_project/MongoDB_ingest/test_passive_samplers/samples\"\n",
    "dir_voc=\"/Users/aponsero/Documents/UA_POSTDOC/projects/B2_project/b2_drought/vocabulary\"\n",
    "file_csv=dir_csv+\"/mapped_convert_samples_leaves.csv\"\n",
    "vocabulary_file=dir_voc+\"/specimen_controlled_vocabulary.csv\"\n",
    "typology_file=dir_voc+\"/specimen_typology.csv\"\n",
    "\n",
    "#output file\n",
    "out_dir=\"/Users/aponsero/Documents/UA_POSTDOC/projects/B2_project/MongoDB_ingest/test_passive_samplers/samples\"\n",
    "json_file=out_dir+\"/samples_leaves.json\"\n",
    "fout = open(json_file, \"a\")\n",
    "\n",
    "#sample type\n",
    "my_sample_type=\"live_leaf_sample\""
   ]
  },
  {
   "cell_type": "code",
   "execution_count": 52,
   "metadata": {
    "collapsed": false
   },
   "outputs": [
    {
     "data": {
      "text/html": [
       "<pre>Finished parsing file /Users/aponsero/Documents/UA_POSTDOC/projects/B2_project/MongoDB_ingest/test_passive_samplers/samples/mapped_convert_samples_leaves.csv</pre>"
      ],
      "text/plain": [
       "Finished parsing file /Users/aponsero/Documents/UA_POSTDOC/projects/B2_project/MongoDB_ingest/test_passive_samplers/samples/mapped_convert_samples_leaves.csv"
      ]
     },
     "metadata": {},
     "output_type": "display_data"
    },
    {
     "data": {
      "text/html": [
       "<pre>Parsing completed. Parsed 51 lines in 0.036015 secs.</pre>"
      ],
      "text/plain": [
       "Parsing completed. Parsed 51 lines in 0.036015 secs."
      ]
     },
     "metadata": {},
     "output_type": "display_data"
    }
   ],
   "source": [
    "my_frame=graphlab.SFrame.read_csv(file_csv, column_type_hints=str)"
   ]
  },
  {
   "cell_type": "code",
   "execution_count": 64,
   "metadata": {
    "collapsed": false
   },
   "outputs": [
    {
     "data": {
      "text/html": [
       "<pre>Finished parsing file /Users/aponsero/Documents/UA_POSTDOC/projects/B2_project/b2_drought/vocabulary/specimen_typology.csv</pre>"
      ],
      "text/plain": [
       "Finished parsing file /Users/aponsero/Documents/UA_POSTDOC/projects/B2_project/b2_drought/vocabulary/specimen_typology.csv"
      ]
     },
     "metadata": {},
     "output_type": "display_data"
    },
    {
     "data": {
      "text/html": [
       "<pre>Parsing completed. Parsed 89 lines in 0.083158 secs.</pre>"
      ],
      "text/plain": [
       "Parsing completed. Parsed 89 lines in 0.083158 secs."
      ]
     },
     "metadata": {},
     "output_type": "display_data"
    },
    {
     "name": "stdout",
     "output_type": "stream",
     "text": [
      "sample_ID not found\n",
      "sample_type: OK\n",
      "collection_protocol_ID: OK\n",
      "sampling_location_on_grid: OK\n",
      "sampling_location_height_level: OK\n",
      "date-Time_of_collection not found\n",
      "date_of_collection: OK\n",
      "time_of_collection: OK\n",
      "tree_host: OK\n",
      "tree_ID: OK\n",
      "sun_exposure: OK\n",
      "sampling_location_height_from_the_ground: OK\n",
      "sampling_location_closest_frame_level: OK\n",
      "leaf_age: OK\n",
      "operator not found\n",
      "No, list1 does not contains all elements in list2\n"
     ]
    }
   ],
   "source": [
    "#minimum information checklist\n",
    "my_typo=graphlab.SFrame.read_csv(typology_file, column_type_hints=str)\n",
    "\n",
    "minimum_tab=my_typo[(my_typo['Types'] == my_sample_type)]\n",
    "minimum_fields=minimum_tab['required_fields']\n",
    "\n",
    "for x in minimum_fields:\n",
    "    if x in my_frame.column_names():\n",
    "        print(x+\": OK\")\n",
    "    else :\n",
    "        print(x+\" : not found\")\n",
    "\n",
    "\n",
    "check =  all(elem in my_frame.column_names() for elem in minimum_fields)\n",
    " \n",
    "if check:\n",
    "    print(\"The document passes the checklist\")    \n",
    "else :\n",
    "    print(\"Warning : minimum attributes missing !\")"
   ]
  },
  {
   "cell_type": "code",
   "execution_count": 24,
   "metadata": {
    "collapsed": false
   },
   "outputs": [
    {
     "data": {
      "text/html": [
       "<pre>Finished parsing file /Users/aponsero/Documents/UA_POSTDOC/projects/B2_project/b2_drought/vocabulary/specimen_controlled_vocabulary.csv</pre>"
      ],
      "text/plain": [
       "Finished parsing file /Users/aponsero/Documents/UA_POSTDOC/projects/B2_project/b2_drought/vocabulary/specimen_controlled_vocabulary.csv"
      ]
     },
     "metadata": {},
     "output_type": "display_data"
    },
    {
     "data": {
      "text/html": [
       "<pre>Parsing completed. Parsed 31 lines in 0.018471 secs.</pre>"
      ],
      "text/plain": [
       "Parsing completed. Parsed 31 lines in 0.018471 secs."
      ]
     },
     "metadata": {},
     "output_type": "display_data"
    },
    {
     "data": {
      "text/html": [
       "<div style=\"max-height:1000px;max-width:1500px;overflow:auto;\"><table frame=\"box\" rules=\"cols\">\n",
       "    <tr>\n",
       "        <th style=\"padding-left: 1em; padding-right: 1em; text-align: center\">Term</th>\n",
       "        <th style=\"padding-left: 1em; padding-right: 1em; text-align: center\">Displayed_term</th>\n",
       "        <th style=\"padding-left: 1em; padding-right: 1em; text-align: center\">Definition</th>\n",
       "        <th style=\"padding-left: 1em; padding-right: 1em; text-align: center\">Section_object</th>\n",
       "        <th style=\"padding-left: 1em; padding-right: 1em; text-align: center\">Units</th>\n",
       "    </tr>\n",
       "    <tr>\n",
       "        <td style=\"padding-left: 1em; padding-right: 1em; text-align: center; vertical-align: top\">sample_ID</td>\n",
       "        <td style=\"padding-left: 1em; padding-right: 1em; text-align: center; vertical-align: top\">sample ID</td>\n",
       "        <td style=\"padding-left: 1em; padding-right: 1em; text-align: center; vertical-align: top\">Unique identifier for the<br>sample. ...</td>\n",
       "        <td style=\"padding-left: 1em; padding-right: 1em; text-align: center; vertical-align: top\">Specimen_description</td>\n",
       "        <td style=\"padding-left: 1em; padding-right: 1em; text-align: center; vertical-align: top\"></td>\n",
       "    </tr>\n",
       "    <tr>\n",
       "        <td style=\"padding-left: 1em; padding-right: 1em; text-align: center; vertical-align: top\">sample_type</td>\n",
       "        <td style=\"padding-left: 1em; padding-right: 1em; text-align: center; vertical-align: top\">sample type</td>\n",
       "        <td style=\"padding-left: 1em; padding-right: 1em; text-align: center; vertical-align: top\">type of sample. Follows<br>one of the types of ...</td>\n",
       "        <td style=\"padding-left: 1em; padding-right: 1em; text-align: center; vertical-align: top\">Specimen_description</td>\n",
       "        <td style=\"padding-left: 1em; padding-right: 1em; text-align: center; vertical-align: top\"></td>\n",
       "    </tr>\n",
       "    <tr>\n",
       "        <td style=\"padding-left: 1em; padding-right: 1em; text-align: center; vertical-align: top\">collection_protocol_ID</td>\n",
       "        <td style=\"padding-left: 1em; padding-right: 1em; text-align: center; vertical-align: top\">collection protocol ID</td>\n",
       "        <td style=\"padding-left: 1em; padding-right: 1em; text-align: center; vertical-align: top\">ID for the protocol used<br>during the sampling e ...</td>\n",
       "        <td style=\"padding-left: 1em; padding-right: 1em; text-align: center; vertical-align: top\">Collection</td>\n",
       "        <td style=\"padding-left: 1em; padding-right: 1em; text-align: center; vertical-align: top\"></td>\n",
       "    </tr>\n",
       "    <tr>\n",
       "        <td style=\"padding-left: 1em; padding-right: 1em; text-align: center; vertical-align: top\">tree_host</td>\n",
       "        <td style=\"padding-left: 1em; padding-right: 1em; text-align: center; vertical-align: top\">tree host</td>\n",
       "        <td style=\"padding-left: 1em; padding-right: 1em; text-align: center; vertical-align: top\">For sample of type \"live<br>leaf sample\" or \"root ...</td>\n",
       "        <td style=\"padding-left: 1em; padding-right: 1em; text-align: center; vertical-align: top\">Location</td>\n",
       "        <td style=\"padding-left: 1em; padding-right: 1em; text-align: center; vertical-align: top\"></td>\n",
       "    </tr>\n",
       "    <tr>\n",
       "        <td style=\"padding-left: 1em; padding-right: 1em; text-align: center; vertical-align: top\">tree_ID</td>\n",
       "        <td style=\"padding-left: 1em; padding-right: 1em; text-align: center; vertical-align: top\">tree ID</td>\n",
       "        <td style=\"padding-left: 1em; padding-right: 1em; text-align: center; vertical-align: top\">For sample of type \"live<br>leaf sample\" or \"root ...</td>\n",
       "        <td style=\"padding-left: 1em; padding-right: 1em; text-align: center; vertical-align: top\">Location</td>\n",
       "        <td style=\"padding-left: 1em; padding-right: 1em; text-align: center; vertical-align: top\"></td>\n",
       "    </tr>\n",
       "    <tr>\n",
       "        <td style=\"padding-left: 1em; padding-right: 1em; text-align: center; vertical-align: top\">sampling_location_on_grid</td>\n",
       "        <td style=\"padding-left: 1em; padding-right: 1em; text-align: center; vertical-align: top\">sampling location on grid</td>\n",
       "        <td style=\"padding-left: 1em; padding-right: 1em; text-align: center; vertical-align: top\">Original location on the<br>2D  grid system of the ...</td>\n",
       "        <td style=\"padding-left: 1em; padding-right: 1em; text-align: center; vertical-align: top\">Location</td>\n",
       "        <td style=\"padding-left: 1em; padding-right: 1em; text-align: center; vertical-align: top\"></td>\n",
       "    </tr>\n",
       "    <tr>\n",
       "        <td style=\"padding-left: 1em; padding-right: 1em; text-align: center; vertical-align: top\">sampling_location_height_<br>level ...</td>\n",
       "        <td style=\"padding-left: 1em; padding-right: 1em; text-align: center; vertical-align: top\">sampling location height<br>level ...</td>\n",
       "        <td style=\"padding-left: 1em; padding-right: 1em; text-align: center; vertical-align: top\">Original location height<br>level of the sample ...</td>\n",
       "        <td style=\"padding-left: 1em; padding-right: 1em; text-align: center; vertical-align: top\">Location</td>\n",
       "        <td style=\"padding-left: 1em; padding-right: 1em; text-align: center; vertical-align: top\"></td>\n",
       "    </tr>\n",
       "    <tr>\n",
       "        <td style=\"padding-left: 1em; padding-right: 1em; text-align: center; vertical-align: top\">sample_replicate_number</td>\n",
       "        <td style=\"padding-left: 1em; padding-right: 1em; text-align: center; vertical-align: top\">sample replicate number</td>\n",
       "        <td style=\"padding-left: 1em; padding-right: 1em; text-align: center; vertical-align: top\">Number of the current<br>experimental replicate ...</td>\n",
       "        <td style=\"padding-left: 1em; padding-right: 1em; text-align: center; vertical-align: top\">Specimen_description</td>\n",
       "        <td style=\"padding-left: 1em; padding-right: 1em; text-align: center; vertical-align: top\"></td>\n",
       "    </tr>\n",
       "    <tr>\n",
       "        <td style=\"padding-left: 1em; padding-right: 1em; text-align: center; vertical-align: top\">time_in_plastic_enclosure<br>_before_collection ...</td>\n",
       "        <td style=\"padding-left: 1em; padding-right: 1em; text-align: center; vertical-align: top\">time in plastic enclosure<br>before collection (in ...</td>\n",
       "        <td style=\"padding-left: 1em; padding-right: 1em; text-align: center; vertical-align: top\">Number of days spent in<br>the enclosure before ...</td>\n",
       "        <td style=\"padding-left: 1em; padding-right: 1em; text-align: center; vertical-align: top\">Collection</td>\n",
       "        <td style=\"padding-left: 1em; padding-right: 1em; text-align: center; vertical-align: top\">days</td>\n",
       "    </tr>\n",
       "    <tr>\n",
       "        <td style=\"padding-left: 1em; padding-right: 1em; text-align: center; vertical-align: top\">sample_treatment_before_c<br>ollection ...</td>\n",
       "        <td style=\"padding-left: 1em; padding-right: 1em; text-align: center; vertical-align: top\">sample treatment before<br>collection ...</td>\n",
       "        <td style=\"padding-left: 1em; padding-right: 1em; text-align: center; vertical-align: top\">Treatment performed on<br>the sample before ...</td>\n",
       "        <td style=\"padding-left: 1em; padding-right: 1em; text-align: center; vertical-align: top\">Collection</td>\n",
       "        <td style=\"padding-left: 1em; padding-right: 1em; text-align: center; vertical-align: top\"></td>\n",
       "    </tr>\n",
       "</table>\n",
       "<table frame=\"box\" rules=\"cols\">\n",
       "    <tr>\n",
       "        <th style=\"padding-left: 1em; padding-right: 1em; text-align: center\">Type</th>\n",
       "        <th style=\"padding-left: 1em; padding-right: 1em; text-align: center\">Aliases</th>\n",
       "    </tr>\n",
       "    <tr>\n",
       "        <td style=\"padding-left: 1em; padding-right: 1em; text-align: center; vertical-align: top\">string</td>\n",
       "        <td style=\"padding-left: 1em; padding-right: 1em; text-align: center; vertical-align: top\"></td>\n",
       "    </tr>\n",
       "    <tr>\n",
       "        <td style=\"padding-left: 1em; padding-right: 1em; text-align: center; vertical-align: top\">string</td>\n",
       "        <td style=\"padding-left: 1em; padding-right: 1em; text-align: center; vertical-align: top\"></td>\n",
       "    </tr>\n",
       "    <tr>\n",
       "        <td style=\"padding-left: 1em; padding-right: 1em; text-align: center; vertical-align: top\">string</td>\n",
       "        <td style=\"padding-left: 1em; padding-right: 1em; text-align: center; vertical-align: top\"></td>\n",
       "    </tr>\n",
       "    <tr>\n",
       "        <td style=\"padding-left: 1em; padding-right: 1em; text-align: center; vertical-align: top\">string</td>\n",
       "        <td style=\"padding-left: 1em; padding-right: 1em; text-align: center; vertical-align: top\"></td>\n",
       "    </tr>\n",
       "    <tr>\n",
       "        <td style=\"padding-left: 1em; padding-right: 1em; text-align: center; vertical-align: top\">string</td>\n",
       "        <td style=\"padding-left: 1em; padding-right: 1em; text-align: center; vertical-align: top\"></td>\n",
       "    </tr>\n",
       "    <tr>\n",
       "        <td style=\"padding-left: 1em; padding-right: 1em; text-align: center; vertical-align: top\">num;num</td>\n",
       "        <td style=\"padding-left: 1em; padding-right: 1em; text-align: center; vertical-align: top\"></td>\n",
       "    </tr>\n",
       "    <tr>\n",
       "        <td style=\"padding-left: 1em; padding-right: 1em; text-align: center; vertical-align: top\">num</td>\n",
       "        <td style=\"padding-left: 1em; padding-right: 1em; text-align: center; vertical-align: top\"></td>\n",
       "    </tr>\n",
       "    <tr>\n",
       "        <td style=\"padding-left: 1em; padding-right: 1em; text-align: center; vertical-align: top\">num</td>\n",
       "        <td style=\"padding-left: 1em; padding-right: 1em; text-align: center; vertical-align: top\"></td>\n",
       "    </tr>\n",
       "    <tr>\n",
       "        <td style=\"padding-left: 1em; padding-right: 1em; text-align: center; vertical-align: top\">num</td>\n",
       "        <td style=\"padding-left: 1em; padding-right: 1em; text-align: center; vertical-align: top\"></td>\n",
       "    </tr>\n",
       "    <tr>\n",
       "        <td style=\"padding-left: 1em; padding-right: 1em; text-align: center; vertical-align: top\">string</td>\n",
       "        <td style=\"padding-left: 1em; padding-right: 1em; text-align: center; vertical-align: top\"></td>\n",
       "    </tr>\n",
       "</table>\n",
       "[31 rows x 7 columns]<br/>Note: Only the head of the SFrame is printed.<br/>You can use print_rows(num_rows=m, num_columns=n) to print more rows and columns.\n",
       "</div>"
      ],
      "text/plain": [
       "Columns:\n",
       "\tTerm\tstr\n",
       "\tDisplayed_term\tstr\n",
       "\tDefinition\tstr\n",
       "\tSection_object\tstr\n",
       "\tUnits\tstr\n",
       "\tType\tstr\n",
       "\tAliases\tstr\n",
       "\n",
       "Rows: 31\n",
       "\n",
       "Data:\n",
       "+--------------------------------+--------------------------------+\n",
       "|              Term              |         Displayed_term         |\n",
       "+--------------------------------+--------------------------------+\n",
       "|           sample_ID            |           sample ID            |\n",
       "|          sample_type           |          sample type           |\n",
       "|     collection_protocol_ID     |     collection protocol ID     |\n",
       "|           tree_host            |           tree host            |\n",
       "|            tree_ID             |            tree ID             |\n",
       "|   sampling_location_on_grid    |   sampling location on grid    |\n",
       "| sampling_location_height_level | sampling location height level |\n",
       "|    sample_replicate_number     |    sample replicate number     |\n",
       "| time_in_plastic_enclosure_...  | time in plastic enclosure ...  |\n",
       "| sample_treatment_before_co...  | sample treatment before co...  |\n",
       "+--------------------------------+--------------------------------+\n",
       "+-------------------------------+----------------------+-------+---------+---------+\n",
       "|           Definition          |    Section_object    | Units |   Type  | Aliases |\n",
       "+-------------------------------+----------------------+-------+---------+---------+\n",
       "| Unique identifier for the ... | Specimen_description |       |  string |         |\n",
       "| type of sample. Follows on... | Specimen_description |       |  string |         |\n",
       "| ID for the protocol used d... |      Collection      |       |  string |         |\n",
       "| For sample of type \"live l... |       Location       |       |  string |         |\n",
       "| For sample of type \"live l... |       Location       |       |  string |         |\n",
       "| Original location on the 2... |       Location       |       | num;num |         |\n",
       "| Original location height l... |       Location       |       |   num   |         |\n",
       "| Number of the current expe... | Specimen_description |       |   num   |         |\n",
       "| Number of days spent in th... |      Collection      |  days |   num   |         |\n",
       "| Treatment performed on the... |      Collection      |       |  string |         |\n",
       "+-------------------------------+----------------------+-------+---------+---------+\n",
       "[31 rows x 7 columns]\n",
       "Note: Only the head of the SFrame is printed.\n",
       "You can use print_rows(num_rows=m, num_columns=n) to print more rows and columns."
      ]
     },
     "execution_count": 24,
     "metadata": {},
     "output_type": "execute_result"
    }
   ],
   "source": [
    "my_voc=graphlab.SFrame.read_csv(vocabulary_file, column_type_hints=str)\n",
    "my_voc"
   ]
  },
  {
   "cell_type": "code",
   "execution_count": 37,
   "metadata": {
    "collapsed": false
   },
   "outputs": [
    {
     "name": "stdout",
     "output_type": "stream",
     "text": [
      "['sample_type', 'sample_replicate_number', 'sample_number_displayed_on_tag', 'sample_name', 'Leaf_condition_before_enclosure', 'leaf_age', 'leaf_condition_after_enclosure', 'notes']\n",
      "['collection_protocol_ID', 'time_in_plastic_enclosure_before_collection', 'sample_treatment_before_collection', 'sampler_size', 'date-time_of_enclosure_placement', 'date_of_enclosure_placement', 'time_of_enclosure_placement', 'date-time_of_collection', 'date_of_collection', 'time_of_collection']\n",
      "['tree_host', 'tree_ID', 'sampling_location_on_grid', 'sampling_location_height_level', 'sun_exposure', 'sampling_location_height_from_the_ground', 'sampling_location_closest_frame_level']\n",
      "[]\n",
      "{'sampler_size': 'string', 'sampling_location_height_from_the_ground': 'num', 'leaf_condition_after_enclosure': 'string', 'Leaf_condition_before_enclosure': 'string', 'time_in_plastic_enclosure_before_collection': 'num', 'sampling_location_closest_frame_level': 'num', 'date_of_enclosure_placement': 'date', 'sample_type': 'string', 'date-time_of_collection': 'date-time', 'date-time_of_enclosure_placement': 'date-time', 'leaf_age': '[y;m;o;none]', 'sample_replicate_number': 'num', 'sample_name': 'string', 'sun_exposure': 'string', 'sampling_location_on_grid': 'num;num', 'date_of_collection': 'date', 'time_of_collection': 'time', 'time_of_enclosure_placement': 'time', 'sampling_location_height_level': 'num', 'sample_treatment_before_collection': 'string', 'sample_number_displayed_on_tag': 'string', 'notes': 'string', 'tree_host': 'string', 'tree_ID': 'string', 'collection_protocol_ID': 'string'}\n"
     ]
    }
   ],
   "source": [
    "# find the object categories and create type finder\n",
    "Specimen_description=[]\n",
    "Collection=[]\n",
    "Location=[]\n",
    "No_object=[]\n",
    "attribute_types={}\n",
    "\n",
    "for i in my_frame.column_names():\n",
    "    curr_data=my_voc[(my_voc['Term'] == i)]\n",
    "    section=curr_data['Section_object']\n",
    "    att_type=curr_data['Type']\n",
    "    #add type in attribute_types\n",
    "    attribute_types[i] = att_type[0]\n",
    "    \n",
    "    #add the attribute in the object categories\n",
    "    if section[0] == \"Specimen_description\":\n",
    "        Specimen_description.append(i)\n",
    "    elif section[0] == \"Collection\":\n",
    "        Collection.append(i)\n",
    "    elif section[0] == \"Location\":\n",
    "        Location.append(i)\n",
    "    else:\n",
    "        No_object.append(i)\n",
    "        \n",
    "print(Specimen_description)\n",
    "print(Collection)\n",
    "print(Location)\n",
    "print(No_object)\n",
    "\n",
    "print(attribute_types)"
   ]
  },
  {
   "cell_type": "code",
   "execution_count": 39,
   "metadata": {
    "collapsed": false
   },
   "outputs": [
    {
     "name": "stdout",
     "output_type": "stream",
     "text": [
      "{\"sample_type\":\"live_leaf_sample\",\"sample_replicate_number\":2,\"sample_number_displayed_on_tag\":\"11\",\"sample_name\":\"C1-H1-R2-2U\",\"Leaf_condition_before_enclosure\":\"G\",\"leaf_age\":\"m\",\"leaf_condition_after_enclosure\":\"Nothing to note\",\"notes\":\"None\",\"Location\":{\"tree_host\":\"Clitoria\",\"tree_ID\":\"1\",\"sampling_location_on_grid\":\"5;0\",\"sampling_location_height_level\":\"1\",\"sun_exposure\":\"shade\",\"sampling_location_height_from_the_ground\":\"10.5\",\"sampling_location_closest_frame_level\":\"0\"},\"Collection\":{\"collection_protocol_ID\":\"2\",\"time_in_plastic_enclosure_before_collection\":\"2\",\"sample_treatment_before_collection\":\"Unwashed\",\"sampler_size\":\"S\",\"date-time_of_enclosure_placement\":\"2019-03-21T12:00:00-07:00\",\"date_of_enclosure_placement\":\"3/21/19\",\"time_of_enclosure_placement\":\"12:00\",\"date-time_of_collection\":\"2019-03-23T11:30:00-07:00\",\"date_of_collection\":\"23-Mar\",\"time_of_collection\":\"11:30\"}}\n",
      "{\"sample_type\":\"live_leaf_sample\",\"sample_replicate_number\":3,\"sample_number_displayed_on_tag\":\"12\",\"sample_name\":\"C1-H1-R3-2U\",\"Leaf_condition_before_enclosure\":\"G\",\"leaf_age\":\"m\",\"leaf_condition_after_enclosure\":\"Nothing to note\",\"notes\":\"None\",\"Location\":{\"tree_host\":\"Clitoria\",\"tree_ID\":\"1\",\"sampling_location_on_grid\":\"5;0\",\"sampling_location_height_level\":\"1\",\"sun_exposure\":\"shade\",\"sampling_location_height_from_the_ground\":\"12\",\"sampling_location_closest_frame_level\":\"0\"},\"Collection\":{\"collection_protocol_ID\":\"2\",\"time_in_plastic_enclosure_before_collection\":\"2\",\"sample_treatment_before_collection\":\"Unwashed\",\"sampler_size\":\"S\",\"date-time_of_enclosure_placement\":\"2019-03-21T12:00:00-07:00\",\"date_of_enclosure_placement\":\"3/21/19\",\"time_of_enclosure_placement\":\"12:00\",\"date-time_of_collection\":\"2019-03-23T11:30:00-07:00\",\"date_of_collection\":\"23-Mar\",\"time_of_collection\":\"11:30\"}}\n",
      "{\"sample_type\":\"live_leaf_sample\",\"sample_replicate_number\":1,\"sample_number_displayed_on_tag\":\"13\",\"sample_name\":\"C1-H1-R1-4U\",\"Leaf_condition_before_enclosure\":\"G\",\"leaf_age\":\"m\",\"leaf_condition_after_enclosure\":\"Nothing to note\",\"notes\":\"None\",\"Location\":{\"tree_host\":\"Clitoria\",\"tree_ID\":\"1\",\"sampling_location_on_grid\":\"5;0\",\"sampling_location_height_level\":\"1\",\"sun_exposure\":\"shade\",\"sampling_location_height_from_the_ground\":\"5\",\"sampling_location_closest_frame_level\":\"0\"},\"Collection\":{\"collection_protocol_ID\":\"2\",\"time_in_plastic_enclosure_before_collection\":\"4\",\"sample_treatment_before_collection\":\"Unwashed\",\"sampler_size\":\"S\",\"date-time_of_enclosure_placement\":\"2019-03-21T12:15:00-07:00\",\"date_of_enclosure_placement\":\"3/21/19\",\"time_of_enclosure_placement\":\"12:15\",\"date-time_of_collection\":\"2019-03-25T11:30:00-07:00\",\"date_of_collection\":\"25-Mar\",\"time_of_collection\":\"11:30\"}}\n",
      "{\"sample_type\":\"live_leaf_sample\",\"sample_replicate_number\":2,\"sample_number_displayed_on_tag\":\"14\",\"sample_name\":\"C1-H1-R2-4U\",\"Leaf_condition_before_enclosure\":\"G\",\"leaf_age\":\"m\",\"leaf_condition_after_enclosure\":\"Nothing to note\",\"notes\":\"None\",\"Location\":{\"tree_host\":\"Clitoria\",\"tree_ID\":\"1\",\"sampling_location_on_grid\":\"5;0\",\"sampling_location_height_level\":\"1\",\"sun_exposure\":\"shade\",\"sampling_location_height_from_the_ground\":\"11\",\"sampling_location_closest_frame_level\":\"0\"},\"Collection\":{\"collection_protocol_ID\":\"2\",\"time_in_plastic_enclosure_before_collection\":\"4\",\"sample_treatment_before_collection\":\"Unwashed\",\"sampler_size\":\"S\",\"date-time_of_enclosure_placement\":\"2019-03-21T12:15:00-07:00\",\"date_of_enclosure_placement\":\"3/21/19\",\"time_of_enclosure_placement\":\"12:15\",\"date-time_of_collection\":\"2019-03-25T11:30:00-07:00\",\"date_of_collection\":\"25-Mar\",\"time_of_collection\":\"11:30\"}}\n",
      "{\"sample_type\":\"live_leaf_sample\",\"sample_replicate_number\":3,\"sample_number_displayed_on_tag\":\"15\",\"sample_name\":\"C1-H1-R3-4U\",\"Leaf_condition_before_enclosure\":\"G\",\"leaf_age\":\"m\",\"leaf_condition_after_enclosure\":\"Nothing to note\",\"notes\":\"None\",\"Location\":{\"tree_host\":\"Clitoria\",\"tree_ID\":\"1\",\"sampling_location_on_grid\":\"5;0\",\"sampling_location_height_level\":\"1\",\"sun_exposure\":\"shade\",\"sampling_location_height_from_the_ground\":\"9.5\",\"sampling_location_closest_frame_level\":\"0\"},\"Collection\":{\"collection_protocol_ID\":\"2\",\"time_in_plastic_enclosure_before_collection\":\"4\",\"sample_treatment_before_collection\":\"Unwashed\",\"sampler_size\":\"S\",\"date-time_of_enclosure_placement\":\"2019-03-21T12:15:00-07:00\",\"date_of_enclosure_placement\":\"3/21/19\",\"time_of_enclosure_placement\":\"12:15\",\"date-time_of_collection\":\"2019-03-25T11:30:00-07:00\",\"date_of_collection\":\"25-Mar\",\"time_of_collection\":\"11:30\"}}\n",
      "{\"sample_type\":\"live_leaf_sample\",\"sample_replicate_number\":1,\"sample_number_displayed_on_tag\":\"16\",\"sample_name\":\"C1-H1-R1-4W\",\"Leaf_condition_before_enclosure\":\"G\",\"leaf_age\":\"m\",\"leaf_condition_after_enclosure\":\"A little condensate in bag (from washing?)\",\"notes\":\"None\",\"Location\":{\"tree_host\":\"Clitoria\",\"tree_ID\":\"1\",\"sampling_location_on_grid\":\"5;0\",\"sampling_location_height_level\":\"1\",\"sun_exposure\":\"shade\",\"sampling_location_height_from_the_ground\":\"9.5\",\"sampling_location_closest_frame_level\":\"0\"},\"Collection\":{\"collection_protocol_ID\":\"2\",\"time_in_plastic_enclosure_before_collection\":\"4\",\"sample_treatment_before_collection\":\"Washed\",\"sampler_size\":\"S\",\"date-time_of_enclosure_placement\":\"2019-03-21T12:15:00-07:00\",\"date_of_enclosure_placement\":\"3/21/19\",\"time_of_enclosure_placement\":\"12:15\",\"date-time_of_collection\":\"2019-03-25T11:30:00-07:00\",\"date_of_collection\":\"25-Mar\",\"time_of_collection\":\"11:30\"}}\n",
      "{\"sample_type\":\"live_leaf_sample\",\"sample_replicate_number\":2,\"sample_number_displayed_on_tag\":\"17\",\"sample_name\":\"C1-H1-R2-4W\",\"Leaf_condition_before_enclosure\":\"G\",\"leaf_age\":\"m\",\"leaf_condition_after_enclosure\":\"nothing to note\",\"notes\":\"None\",\"Location\":{\"tree_host\":\"Clitoria\",\"tree_ID\":\"1\",\"sampling_location_on_grid\":\"5;0\",\"sampling_location_height_level\":\"1\",\"sun_exposure\":\"shade\",\"sampling_location_height_from_the_ground\":\"8\",\"sampling_location_closest_frame_level\":\"0\"},\"Collection\":{\"collection_protocol_ID\":\"2\",\"time_in_plastic_enclosure_before_collection\":\"4\",\"sample_treatment_before_collection\":\"Washed\",\"sampler_size\":\"S\",\"date-time_of_enclosure_placement\":\"2019-03-21T12:30:00-07:00\",\"date_of_enclosure_placement\":\"3/21/19\",\"time_of_enclosure_placement\":\"12:30\",\"date-time_of_collection\":\"2019-03-25T11:30:00-07:00\",\"date_of_collection\":\"25-Mar\",\"time_of_collection\":\"11:30\"}}\n",
      "{\"sample_type\":\"live_leaf_sample\",\"sample_replicate_number\":3,\"sample_number_displayed_on_tag\":\"18\",\"sample_name\":\"C1-H1-R3-4W\",\"Leaf_condition_before_enclosure\":\"G\",\"leaf_age\":\"m\",\"leaf_condition_after_enclosure\":\"A little condensate in bag (from washing?)\",\"notes\":\"None\",\"Location\":{\"tree_host\":\"Clitoria\",\"tree_ID\":\"1\",\"sampling_location_on_grid\":\"5;0\",\"sampling_location_height_level\":\"1\",\"sun_exposure\":\"shade\",\"sampling_location_height_from_the_ground\":\"4\",\"sampling_location_closest_frame_level\":\"0\"},\"Collection\":{\"collection_protocol_ID\":\"2\",\"time_in_plastic_enclosure_before_collection\":\"4\",\"sample_treatment_before_collection\":\"Washed\",\"sampler_size\":\"S\",\"date-time_of_enclosure_placement\":\"2019-03-21T12:30:00-07:00\",\"date_of_enclosure_placement\":\"3/21/19\",\"time_of_enclosure_placement\":\"12:30\",\"date-time_of_collection\":\"2019-03-25T11:30:00-07:00\",\"date_of_collection\":\"25-Mar\",\"time_of_collection\":\"11:30\"}}\n",
      "{\"sample_type\":\"live_leaf_sample\",\"sample_replicate_number\":None,\"sample_number_displayed_on_tag\":\"19\",\"sample_name\":\"C1-H1-CTRL\",\"Leaf_condition_before_enclosure\":\"None\",\"leaf_age\":\"None\",\"leaf_condition_after_enclosure\":\"None\",\"notes\":\"Samples 13-19 collected 3/25 and sent back by van to campus. jd.\",\"Location\":{\"tree_host\":\"Clitoria\",\"tree_ID\":\"1\",\"sampling_location_on_grid\":\"5;0\",\"sampling_location_height_level\":\"1\",\"sun_exposure\":\"shade\",\"sampling_location_height_from_the_ground\":\"8\",\"sampling_location_closest_frame_level\":\"0\"},\"Collection\":{\"collection_protocol_ID\":\"2\",\"time_in_plastic_enclosure_before_collection\":\"4\",\"sample_treatment_before_collection\":\"CONTROL\",\"sampler_size\":\"S\",\"date-time_of_enclosure_placement\":\"2019-03-21T12:30:00-07:00\",\"date_of_enclosure_placement\":\"3/21/19\",\"time_of_enclosure_placement\":\"12:30\",\"date-time_of_collection\":\"2019-03-25T11:30:00-07:00\",\"date_of_collection\":\"25-Mar\",\"time_of_collection\":\"11:30\"}}\n",
      "{\"sample_type\":\"live_leaf_sample\",\"sample_replicate_number\":1,\"sample_number_displayed_on_tag\":\"20\",\"sample_name\":\"C2-H1-R1-1U\",\"Leaf_condition_before_enclosure\":\"S\",\"leaf_age\":\"n\",\"leaf_condition_after_enclosure\":\"stick fell in bag. no change to leaf\",\"notes\":\"None\",\"Location\":{\"tree_host\":\"Clitoria\",\"tree_ID\":\"2\",\"sampling_location_on_grid\":\"25;0\",\"sampling_location_height_level\":\"1\",\"sun_exposure\":\"shade\",\"sampling_location_height_from_the_ground\":\"8\",\"sampling_location_closest_frame_level\":\"2\"},\"Collection\":{\"collection_protocol_ID\":\"1\",\"time_in_plastic_enclosure_before_collection\":\"1\",\"sample_treatment_before_collection\":\"Unwashed\",\"sampler_size\":\"S\",\"date-time_of_enclosure_placement\":\"2019-03-22T11:00:00-07:00\",\"date_of_enclosure_placement\":\"3/22/19\",\"time_of_enclosure_placement\":\"11:00\",\"date-time_of_collection\":\"2019-03-23T11:00:00-07:00\",\"date_of_collection\":\"23-Mar\",\"time_of_collection\":\"11:00\"}}\n",
      "{\"sample_type\":\"live_leaf_sample\",\"sample_replicate_number\":2,\"sample_number_displayed_on_tag\":\"21\",\"sample_name\":\"C2-H1-R2-1U\",\"Leaf_condition_before_enclosure\":\"G\",\"leaf_age\":\"n\",\"leaf_condition_after_enclosure\":\"no change\",\"notes\":\"None\",\"Location\":{\"tree_host\":\"Clitoria\",\"tree_ID\":\"2\",\"sampling_location_on_grid\":\"25;0\",\"sampling_location_height_level\":\"1\",\"sun_exposure\":\"shade\",\"sampling_location_height_from_the_ground\":\"8\",\"sampling_location_closest_frame_level\":\"2\"},\"Collection\":{\"collection_protocol_ID\":\"1\",\"time_in_plastic_enclosure_before_collection\":\"1\",\"sample_treatment_before_collection\":\"Unwashed\",\"sampler_size\":\"S\",\"date-time_of_enclosure_placement\":\"2019-03-22T11:00:00-07:00\",\"date_of_enclosure_placement\":\"3/22/19\",\"time_of_enclosure_placement\":\"11:00\",\"date-time_of_collection\":\"2019-03-23T11:00:00-07:00\",\"date_of_collection\":\"23-Mar\",\"time_of_collection\":\"11:00\"}}\n",
      "{\"sample_type\":\"live_leaf_sample\",\"sample_replicate_number\":3,\"sample_number_displayed_on_tag\":\"22\",\"sample_name\":\"C2-H1-R3-1U\",\"Leaf_condition_before_enclosure\":\"Y\",\"leaf_age\":\"o\",\"leaf_condition_after_enclosure\":\"no change\",\"notes\":\"chloritic\",\"Location\":{\"tree_host\":\"Clitoria\",\"tree_ID\":\"2\",\"sampling_location_on_grid\":\"25;0\",\"sampling_location_height_level\":\"1\",\"sun_exposure\":\"shade\",\"sampling_location_height_from_the_ground\":\"7.5\",\"sampling_location_closest_frame_level\":\"2\"},\"Collection\":{\"collection_protocol_ID\":\"1\",\"time_in_plastic_enclosure_before_collection\":\"1\",\"sample_treatment_before_collection\":\"Unwashed\",\"sampler_size\":\"S\",\"date-time_of_enclosure_placement\":\"2019-03-22T11:00:00-07:00\",\"date_of_enclosure_placement\":\"3/22/19\",\"time_of_enclosure_placement\":\"11:00\",\"date-time_of_collection\":\"2019-03-23T11:00:00-07:00\",\"date_of_collection\":\"23-Mar\",\"time_of_collection\":\"11:00\"}}\n",
      "{\"sample_type\":\"live_leaf_sample\",\"sample_replicate_number\":1,\"sample_number_displayed_on_tag\":\"23\",\"sample_name\":\"C2-H2-R1-1U\",\"Leaf_condition_before_enclosure\":\"G\",\"leaf_age\":\"n\",\"leaf_condition_after_enclosure\":\"no change\",\"notes\":\"Age n=new m=middle age o=old\",\"Location\":{\"tree_host\":\"Clitoria\",\"tree_ID\":\"2\",\"sampling_location_on_grid\":\"30;0\",\"sampling_location_height_level\":\"2\",\"sun_exposure\":\"ns\",\"sampling_location_height_from_the_ground\":\"7.5\",\"sampling_location_closest_frame_level\":\"7\"},\"Collection\":{\"collection_protocol_ID\":\"1\",\"time_in_plastic_enclosure_before_collection\":\"1\",\"sample_treatment_before_collection\":\"Unwashed\",\"sampler_size\":\"L\",\"date-time_of_enclosure_placement\":\"2019-03-22T12:15:00-07:00\",\"date_of_enclosure_placement\":\"3/22/19\",\"time_of_enclosure_placement\":\"12:15\",\"date-time_of_collection\":\"2019-03-23T12:20:00-07:00\",\"date_of_collection\":\"23-Mar\",\"time_of_collection\":\"12:20\"}}\n",
      "{\"sample_type\":\"live_leaf_sample\",\"sample_replicate_number\":2,\"sample_number_displayed_on_tag\":\"24\",\"sample_name\":\"C2-H2-R2-1U\",\"Leaf_condition_before_enclosure\":\"G\",\"leaf_age\":\"n\",\"leaf_condition_after_enclosure\":\"no change\",\"notes\":\"sun exposure first letter leaf direction second letter exposure amount(Full, partial, shade) so ns is north exposed in the shade and ep is eastern light partial sun, etc.\",\"Location\":{\"tree_host\":\"Clitoria\",\"tree_ID\":\"2\",\"sampling_location_on_grid\":\"20;0\",\"sampling_location_height_level\":\"2\",\"sun_exposure\":\"np\",\"sampling_location_height_from_the_ground\":\"7.5\",\"sampling_location_closest_frame_level\":\"7\"},\"Collection\":{\"collection_protocol_ID\":\"1\",\"time_in_plastic_enclosure_before_collection\":\"1\",\"sample_treatment_before_collection\":\"Unwashed\",\"sampler_size\":\"L\",\"date-time_of_enclosure_placement\":\"2019-03-22T12:15:00-07:00\",\"date_of_enclosure_placement\":\"3/22/19\",\"time_of_enclosure_placement\":\"12:15\",\"date-time_of_collection\":\"2019-03-23T12:33:00-07:00\",\"date_of_collection\":\"23-Mar\",\"time_of_collection\":\"12:33\"}}\n",
      "{\"sample_type\":\"live_leaf_sample\",\"sample_replicate_number\":3,\"sample_number_displayed_on_tag\":\"25\",\"sample_name\":\"C2-H2-R3-1U\",\"Leaf_condition_before_enclosure\":\"G\",\"leaf_age\":\"o\",\"leaf_condition_after_enclosure\":\"no change\",\"notes\":\"None\",\"Location\":{\"tree_host\":\"Clitoria\",\"tree_ID\":\"2\",\"sampling_location_on_grid\":\"20;0\",\"sampling_location_height_level\":\"2\",\"sun_exposure\":\"es\",\"sampling_location_height_from_the_ground\":\"7.5\",\"sampling_location_closest_frame_level\":\"7\"},\"Collection\":{\"collection_protocol_ID\":\"1\",\"time_in_plastic_enclosure_before_collection\":\"1\",\"sample_treatment_before_collection\":\"Unwashed\",\"sampler_size\":\"L\",\"date-time_of_enclosure_placement\":\"2019-03-22T12:15:00-07:00\",\"date_of_enclosure_placement\":\"3/22/19\",\"time_of_enclosure_placement\":\"12:15\",\"date-time_of_collection\":\"2019-03-23T12:33:00-07:00\",\"date_of_collection\":\"23-Mar\",\"time_of_collection\":\"12:33\"}}\n",
      "{\"sample_type\":\"live_leaf_sample\",\"sample_replicate_number\":1,\"sample_number_displayed_on_tag\":\"26\",\"sample_name\":\"C2-H3-R1-1U\",\"Leaf_condition_before_enclosure\":\"G\",\"leaf_age\":\"o\",\"leaf_condition_after_enclosure\":\"no change\",\"notes\":\"None\",\"Location\":{\"tree_host\":\"Clitoria\",\"tree_ID\":\"2\",\"sampling_location_on_grid\":\"20;5\",\"sampling_location_height_level\":\"3\",\"sun_exposure\":\"es\",\"sampling_location_height_from_the_ground\":\"13\",\"sampling_location_closest_frame_level\":\"10\"},\"Collection\":{\"collection_protocol_ID\":\"1\",\"time_in_plastic_enclosure_before_collection\":\"1\",\"sample_treatment_before_collection\":\"Unwashed\",\"sampler_size\":\"L\",\"date-time_of_enclosure_placement\":\"2019-03-22T13:00:00-07:00\",\"date_of_enclosure_placement\":\"3/22/19\",\"time_of_enclosure_placement\":\"13:00\",\"date-time_of_collection\":\"2019-03-23T13:00:00-07:00\",\"date_of_collection\":\"23-Mar\",\"time_of_collection\":\"13:00\"}}\n",
      "{\"sample_type\":\"live_leaf_sample\",\"sample_replicate_number\":2,\"sample_number_displayed_on_tag\":\"27\",\"sample_name\":\"C2-H3-R2-1U\",\"Leaf_condition_before_enclosure\":\"G\",\"leaf_age\":\"m\",\"leaf_condition_after_enclosure\":\"no change\",\"notes\":\"None\",\"Location\":{\"tree_host\":\"Clitoria\",\"tree_ID\":\"2\",\"sampling_location_on_grid\":\"20;5\",\"sampling_location_height_level\":\"3\",\"sun_exposure\":\"ep\",\"sampling_location_height_from_the_ground\":\"13.5\",\"sampling_location_closest_frame_level\":\"10\"},\"Collection\":{\"collection_protocol_ID\":\"1\",\"time_in_plastic_enclosure_before_collection\":\"1\",\"sample_treatment_before_collection\":\"Unwashed\",\"sampler_size\":\"L\",\"date-time_of_enclosure_placement\":\"2019-03-22T13:00:00-07:00\",\"date_of_enclosure_placement\":\"3/22/19\",\"time_of_enclosure_placement\":\"13:00\",\"date-time_of_collection\":\"2019-03-23T13:00:00-07:00\",\"date_of_collection\":\"23-Mar\",\"time_of_collection\":\"13:00\"}}\n",
      "{\"sample_type\":\"live_leaf_sample\",\"sample_replicate_number\":3,\"sample_number_displayed_on_tag\":\"28\",\"sample_name\":\"C2-H3-R3-1U\",\"Leaf_condition_before_enclosure\":\"G\",\"leaf_age\":\"o\",\"leaf_condition_after_enclosure\":\"no change\",\"notes\":\"None\",\"Location\":{\"tree_host\":\"Clitoria\",\"tree_ID\":\"2\",\"sampling_location_on_grid\":\"20;5\",\"sampling_location_height_level\":\"3\",\"sun_exposure\":\"es\",\"sampling_location_height_from_the_ground\":\"13\",\"sampling_location_closest_frame_level\":\"10\"},\"Collection\":{\"collection_protocol_ID\":\"1\",\"time_in_plastic_enclosure_before_collection\":\"1\",\"sample_treatment_before_collection\":\"Unwashed\",\"sampler_size\":\"L\",\"date-time_of_enclosure_placement\":\"2019-03-22T13:00:00-07:00\",\"date_of_enclosure_placement\":\"3/22/19\",\"time_of_enclosure_placement\":\"13:00\",\"date-time_of_collection\":\"2019-03-23T13:00:00-07:00\",\"date_of_collection\":\"23-Mar\",\"time_of_collection\":\"13:00\"}}\n",
      "{\"sample_type\":\"live_leaf_sample\",\"sample_replicate_number\":1,\"sample_number_displayed_on_tag\":\"29\",\"sample_name\":\"C2-H4-R1-1U\",\"Leaf_condition_before_enclosure\":\"G\",\"leaf_age\":\"o\",\"leaf_condition_after_enclosure\":\"no change\",\"notes\":\"None\",\"Location\":{\"tree_host\":\"Clitoria\",\"tree_ID\":\"2\",\"sampling_location_on_grid\":\"20;10\",\"sampling_location_height_level\":\"4\",\"sun_exposure\":\"ef\",\"sampling_location_height_from_the_ground\":\"19\",\"sampling_location_closest_frame_level\":\"15\"},\"Collection\":{\"collection_protocol_ID\":\"1\",\"time_in_plastic_enclosure_before_collection\":\"1\",\"sample_treatment_before_collection\":\"Unwashed\",\"sampler_size\":\"L\",\"date-time_of_enclosure_placement\":\"2019-03-22T13:10:00-07:00\",\"date_of_enclosure_placement\":\"3/22/19\",\"time_of_enclosure_placement\":\"13:10\",\"date-time_of_collection\":\"2019-03-23T13:05:00-07:00\",\"date_of_collection\":\"23-Mar\",\"time_of_collection\":\"13:05\"}}\n",
      "{\"sample_type\":\"live_leaf_sample\",\"sample_replicate_number\":2,\"sample_number_displayed_on_tag\":\"30\",\"sample_name\":\"C2-H4-R2-1U\",\"Leaf_condition_before_enclosure\":\"G\",\"leaf_age\":\"o\",\"leaf_condition_after_enclosure\":\"no change\",\"notes\":\"None\",\"Location\":{\"tree_host\":\"Clitoria\",\"tree_ID\":\"2\",\"sampling_location_on_grid\":\"20;10\",\"sampling_location_height_level\":\"4\",\"sun_exposure\":\"sf\",\"sampling_location_height_from_the_ground\":\"19\",\"sampling_location_closest_frame_level\":\"15\"},\"Collection\":{\"collection_protocol_ID\":\"1\",\"time_in_plastic_enclosure_before_collection\":\"1\",\"sample_treatment_before_collection\":\"Unwashed\",\"sampler_size\":\"L\",\"date-time_of_enclosure_placement\":\"2019-03-22T13:10:00-07:00\",\"date_of_enclosure_placement\":\"3/22/19\",\"time_of_enclosure_placement\":\"13:10\",\"date-time_of_collection\":\"2019-03-23T12:05:00-07:00\",\"date_of_collection\":\"23-Mar\",\"time_of_collection\":\"13:05\"}}\n",
      "{\"sample_type\":\"live_leaf_sample\",\"sample_replicate_number\":3,\"sample_number_displayed_on_tag\":\"31\",\"sample_name\":\"C2-H4-R3-1U\",\"Leaf_condition_before_enclosure\":\"G\",\"leaf_age\":\"o\",\"leaf_condition_after_enclosure\":\"no change\",\"notes\":\"None\",\"Location\":{\"tree_host\":\"Clitoria\",\"tree_ID\":\"2\",\"sampling_location_on_grid\":\"20;10\",\"sampling_location_height_level\":\"4\",\"sun_exposure\":\"wf\",\"sampling_location_height_from_the_ground\":\"19\",\"sampling_location_closest_frame_level\":\"15\"},\"Collection\":{\"collection_protocol_ID\":\"1\",\"time_in_plastic_enclosure_before_collection\":\"1\",\"sample_treatment_before_collection\":\"Unwashed\",\"sampler_size\":\"L\",\"date-time_of_enclosure_placement\":\"2019-03-22T13:10:00-07:00\",\"date_of_enclosure_placement\":\"3/22/19\",\"time_of_enclosure_placement\":\"13:10\",\"date-time_of_collection\":\"2019-03-23T12:05:00-07:00\",\"date_of_collection\":\"23-Mar\",\"time_of_collection\":\"13:05\"}}\n",
      "{\"sample_type\":\"live_leaf_sample\",\"sample_replicate_number\":1,\"sample_number_displayed_on_tag\":\"36\",\"sample_name\":\"C3-H1-R1-1U\",\"Leaf_condition_before_enclosure\":\"G\",\"leaf_age\":\"m\",\"leaf_condition_after_enclosure\":\"no change\",\"notes\":\"north side of vent 'cloud island'\",\"Location\":{\"tree_host\":\"Clitoria\",\"tree_ID\":\"3\",\"sampling_location_on_grid\":\"30;0\",\"sampling_location_height_level\":\"1\",\"sun_exposure\":\"shade\",\"sampling_location_height_from_the_ground\":\"8\",\"sampling_location_closest_frame_level\":\"3\"},\"Collection\":{\"collection_protocol_ID\":\"1\",\"time_in_plastic_enclosure_before_collection\":\"1\",\"sample_treatment_before_collection\":\"Unwashed\",\"sampler_size\":\"S\",\"date-time_of_enclosure_placement\":\"2019-03-22T10:45:00-07:00\",\"date_of_enclosure_placement\":\"3/22/19\",\"time_of_enclosure_placement\":\"10:45\",\"date-time_of_collection\":\"2019-03-23T10:45:00-07:00\",\"date_of_collection\":\"23-Mar\",\"time_of_collection\":\"10:45\"}}\n",
      "{\"sample_type\":\"live_leaf_sample\",\"sample_replicate_number\":2,\"sample_number_displayed_on_tag\":\"37\",\"sample_name\":\"C3-H1-R2-1U\",\"Leaf_condition_before_enclosure\":\"G\",\"leaf_age\":\"m\",\"leaf_condition_after_enclosure\":\"no change\",\"notes\":\"north side of vent 'cloud island'\",\"Location\":{\"tree_host\":\"Clitoria\",\"tree_ID\":\"3\",\"sampling_location_on_grid\":\"30;0\",\"sampling_location_height_level\":\"1\",\"sun_exposure\":\"shade\",\"sampling_location_height_from_the_ground\":\"10\",\"sampling_location_closest_frame_level\":\"3\"},\"Collection\":{\"collection_protocol_ID\":\"1\",\"time_in_plastic_enclosure_before_collection\":\"1\",\"sample_treatment_before_collection\":\"Unwashed\",\"sampler_size\":\"S\",\"date-time_of_enclosure_placement\":\"2019-03-22T10:45:00-07:00\",\"date_of_enclosure_placement\":\"3/22/19\",\"time_of_enclosure_placement\":\"10:45\",\"date-time_of_collection\":\"2019-03-23T10:45:00-07:00\",\"date_of_collection\":\"23-Mar\",\"time_of_collection\":\"10:45\"}}\n",
      "{\"sample_type\":\"live_leaf_sample\",\"sample_replicate_number\":3,\"sample_number_displayed_on_tag\":\"38\",\"sample_name\":\"C3-H1-R3-1U\",\"Leaf_condition_before_enclosure\":\"G\",\"leaf_age\":\"m\",\"leaf_condition_after_enclosure\":\"no change\",\"notes\":\"north side of vent 'cloud island'\",\"Location\":{\"tree_host\":\"Clitoria\",\"tree_ID\":\"3\",\"sampling_location_on_grid\":\"30;0\",\"sampling_location_height_level\":\"1\",\"sun_exposure\":\"shade\",\"sampling_location_height_from_the_ground\":\"9\",\"sampling_location_closest_frame_level\":\"3\"},\"Collection\":{\"collection_protocol_ID\":\"1\",\"time_in_plastic_enclosure_before_collection\":\"1\",\"sample_treatment_before_collection\":\"Unwashed\",\"sampler_size\":\"S\",\"date-time_of_enclosure_placement\":\"2019-03-22T10:45:00-07:00\",\"date_of_enclosure_placement\":\"3/22/19\",\"time_of_enclosure_placement\":\"10:45\",\"date-time_of_collection\":\"2019-03-23T10:45:00-07:00\",\"date_of_collection\":\"23-Mar\",\"time_of_collection\":\"10:45\"}}\n",
      "{\"sample_type\":\"live_leaf_sample\",\"sample_replicate_number\":1,\"sample_number_displayed_on_tag\":\"39\",\"sample_name\":\"C3-H2-R1-1U\",\"Leaf_condition_before_enclosure\":\"G\",\"leaf_age\":\"o\",\"leaf_condition_after_enclosure\":\"no change\",\"notes\":\"None\",\"Location\":{\"tree_host\":\"Clitoria\",\"tree_ID\":\"3\",\"sampling_location_on_grid\":\"30;0\",\"sampling_location_height_level\":\"2\",\"sun_exposure\":\"es\",\"sampling_location_height_from_the_ground\":\"8\",\"sampling_location_closest_frame_level\":\"7\"},\"Collection\":{\"collection_protocol_ID\":\"1\",\"time_in_plastic_enclosure_before_collection\":\"1\",\"sample_treatment_before_collection\":\"Unwashed\",\"sampler_size\":\"L\",\"date-time_of_enclosure_placement\":\"2019-03-22T12:45:00-07:00\",\"date_of_enclosure_placement\":\"3/22/19\",\"time_of_enclosure_placement\":\"12:45\",\"date-time_of_collection\":\"2019-03-23T12:00:00-07:00\",\"date_of_collection\":\"23-Mar\",\"time_of_collection\":\"12:00\"}}\n",
      "{\"sample_type\":\"live_leaf_sample\",\"sample_replicate_number\":2,\"sample_number_displayed_on_tag\":\"40\",\"sample_name\":\"C3-H2-R2-1U\",\"Leaf_condition_before_enclosure\":\"G\",\"leaf_age\":\"o\",\"leaf_condition_after_enclosure\":\"no change\",\"notes\":\"None\",\"Location\":{\"tree_host\":\"Clitoria\",\"tree_ID\":\"3\",\"sampling_location_on_grid\":\"30;0\",\"sampling_location_height_level\":\"2\",\"sun_exposure\":\"ns\",\"sampling_location_height_from_the_ground\":\"8\",\"sampling_location_closest_frame_level\":\"7\"},\"Collection\":{\"collection_protocol_ID\":\"1\",\"time_in_plastic_enclosure_before_collection\":\"1\",\"sample_treatment_before_collection\":\"Unwashed\",\"sampler_size\":\"L\",\"date-time_of_enclosure_placement\":\"2019-03-22T12:45:00-07:00\",\"date_of_enclosure_placement\":\"3/22/19\",\"time_of_enclosure_placement\":\"12:45\",\"date-time_of_collection\":\"2019-03-23T12:00:00-07:00\",\"date_of_collection\":\"23-Mar\",\"time_of_collection\":\"12:00\"}}\n",
      "{\"sample_type\":\"live_leaf_sample\",\"sample_replicate_number\":3,\"sample_number_displayed_on_tag\":\"41\",\"sample_name\":\"C3-H2-R3-1U\",\"Leaf_condition_before_enclosure\":\"G\",\"leaf_age\":\"o\",\"leaf_condition_after_enclosure\":\"condensation\",\"notes\":\"None\",\"Location\":{\"tree_host\":\"Clitoria\",\"tree_ID\":\"3\",\"sampling_location_on_grid\":\"30;0\",\"sampling_location_height_level\":\"2\",\"sun_exposure\":\"ep\",\"sampling_location_height_from_the_ground\":\"8\",\"sampling_location_closest_frame_level\":\"7\"},\"Collection\":{\"collection_protocol_ID\":\"1\",\"time_in_plastic_enclosure_before_collection\":\"1\",\"sample_treatment_before_collection\":\"Unwashed\",\"sampler_size\":\"L\",\"date-time_of_enclosure_placement\":\"2019-03-22T12:45:00-07:00\",\"date_of_enclosure_placement\":\"3/22/19\",\"time_of_enclosure_placement\":\"12:45\",\"date-time_of_collection\":\"2019-03-23T12:00:00-07:00\",\"date_of_collection\":\"23-Mar\",\"time_of_collection\":\"12:00\"}}\n",
      "{\"sample_type\":\"live_leaf_sample\",\"sample_replicate_number\":1,\"sample_number_displayed_on_tag\":\"42\",\"sample_name\":\"C3-H3-R1-1U\",\"Leaf_condition_before_enclosure\":\"G\",\"leaf_age\":\"m\",\"leaf_condition_after_enclosure\":\"no change\",\"notes\":\"None\",\"Location\":{\"tree_host\":\"Clitoria\",\"tree_ID\":\"3\",\"sampling_location_on_grid\":\"30;5\",\"sampling_location_height_level\":\"3\",\"sun_exposure\":\"ep\",\"sampling_location_height_from_the_ground\":\"14.5\",\"sampling_location_closest_frame_level\":\"11\"},\"Collection\":{\"collection_protocol_ID\":\"1\",\"time_in_plastic_enclosure_before_collection\":\"1\",\"sample_treatment_before_collection\":\"Unwashed\",\"sampler_size\":\"S\",\"date-time_of_enclosure_placement\":\"2019-03-22T10:30:00-07:00\",\"date_of_enclosure_placement\":\"3/22/19\",\"time_of_enclosure_placement\":\"10:30\",\"date-time_of_collection\":\"2019-03-23T11:20:00-07:00\",\"date_of_collection\":\"23-Mar\",\"time_of_collection\":\"11:20\"}}\n",
      "{\"sample_type\":\"live_leaf_sample\",\"sample_replicate_number\":2,\"sample_number_displayed_on_tag\":\"43\",\"sample_name\":\"C3-H3-R2-1U\",\"Leaf_condition_before_enclosure\":\"BT\",\"leaf_age\":\"m\",\"leaf_condition_after_enclosure\":\"no change\",\"notes\":\"None\",\"Location\":{\"tree_host\":\"Clitoria\",\"tree_ID\":\"3\",\"sampling_location_on_grid\":\"30;5\",\"sampling_location_height_level\":\"3\",\"sun_exposure\":\"es\",\"sampling_location_height_from_the_ground\":\"14\",\"sampling_location_closest_frame_level\":\"10\"},\"Collection\":{\"collection_protocol_ID\":\"1\",\"time_in_plastic_enclosure_before_collection\":\"1\",\"sample_treatment_before_collection\":\"Unwashed\",\"sampler_size\":\"S\",\"date-time_of_enclosure_placement\":\"2019-03-22T10:30:00-07:00\",\"date_of_enclosure_placement\":\"3/22/19\",\"time_of_enclosure_placement\":\"10:30\",\"date-time_of_collection\":\"2019-03-23T11:20:00-07:00\",\"date_of_collection\":\"23-Mar\",\"time_of_collection\":\"11:20\"}}\n",
      "{\"sample_type\":\"live_leaf_sample\",\"sample_replicate_number\":3,\"sample_number_displayed_on_tag\":\"44\",\"sample_name\":\"C3-H3-R3-1U\",\"Leaf_condition_before_enclosure\":\"G\",\"leaf_age\":\"o\",\"leaf_condition_after_enclosure\":\"no change\",\"notes\":\"None\",\"Location\":{\"tree_host\":\"Clitoria\",\"tree_ID\":\"3\",\"sampling_location_on_grid\":\"30;5\",\"sampling_location_height_level\":\"3\",\"sun_exposure\":\"ws\",\"sampling_location_height_from_the_ground\":\"14\",\"sampling_location_closest_frame_level\":\"10\"},\"Collection\":{\"collection_protocol_ID\":\"1\",\"time_in_plastic_enclosure_before_collection\":\"1\",\"sample_treatment_before_collection\":\"Unwashed\",\"sampler_size\":\"S\",\"date-time_of_enclosure_placement\":\"2019-03-22T10:30:00-07:00\",\"date_of_enclosure_placement\":\"3/22/19\",\"time_of_enclosure_placement\":\"10:30\",\"date-time_of_collection\":\"2019-03-23T11:20:00-07:00\",\"date_of_collection\":\"23-Mar\",\"time_of_collection\":\"11:20\"}}\n",
      "{\"sample_type\":\"live_leaf_sample\",\"sample_replicate_number\":1,\"sample_number_displayed_on_tag\":\"45\",\"sample_name\":\"C3-H4-R1-1U\",\"Leaf_condition_before_enclosure\":\"G\",\"leaf_age\":\"o\",\"leaf_condition_after_enclosure\":\"condensation\",\"notes\":\"None\",\"Location\":{\"tree_host\":\"Clitoria\",\"tree_ID\":\"3\",\"sampling_location_on_grid\":\"30;10.5\",\"sampling_location_height_level\":\"4\",\"sun_exposure\":\"np\",\"sampling_location_height_from_the_ground\":\"19\",\"sampling_location_closest_frame_level\":\"14.5\"},\"Collection\":{\"collection_protocol_ID\":\"1\",\"time_in_plastic_enclosure_before_collection\":\"1\",\"sample_treatment_before_collection\":\"Unwashed\",\"sampler_size\":\"S\",\"date-time_of_enclosure_placement\":\"2019-03-22T10:15:00-07:00\",\"date_of_enclosure_placement\":\"3/22/19\",\"time_of_enclosure_placement\":\"10:15\",\"date-time_of_collection\":\"2019-03-23T11:07:00-07:00\",\"date_of_collection\":\"23-Mar\",\"time_of_collection\":\"11:07\"}}\n",
      "{\"sample_type\":\"live_leaf_sample\",\"sample_replicate_number\":3,\"sample_number_displayed_on_tag\":\"47\",\"sample_name\":\"C3-H4-R3-1U\",\"Leaf_condition_before_enclosure\":\"BT\",\"leaf_age\":\"m\",\"leaf_condition_after_enclosure\":\"no change\",\"notes\":\"None\",\"Location\":{\"tree_host\":\"Clitoria\",\"tree_ID\":\"3\",\"sampling_location_on_grid\":\"30;10.5\",\"sampling_location_height_level\":\"4\",\"sun_exposure\":\"sp\",\"sampling_location_height_from_the_ground\":\"19\",\"sampling_location_closest_frame_level\":\"15\"},\"Collection\":{\"collection_protocol_ID\":\"1\",\"time_in_plastic_enclosure_before_collection\":\"1\",\"sample_treatment_before_collection\":\"Unwashed\",\"sampler_size\":\"S\",\"date-time_of_enclosure_placement\":\"2019-03-22T10:15:00-07:00\",\"date_of_enclosure_placement\":\"3/22/19\",\"time_of_enclosure_placement\":\"10:15\",\"date-time_of_collection\":\"2019-03-23T11:07:00-07:00\",\"date_of_collection\":\"23-Mar\",\"time_of_collection\":\"11:07\"}}\n",
      "{\"sample_type\":\"live_leaf_sample\",\"sample_replicate_number\":1,\"sample_number_displayed_on_tag\":\"48\",\"sample_name\":\"C3-H5-R1-1U\",\"Leaf_condition_before_enclosure\":\"G\",\"leaf_age\":\"o\",\"leaf_condition_after_enclosure\":\"no change\",\"notes\":\"This was an assumed not measured height\",\"Location\":{\"tree_host\":\"Clitoria\",\"tree_ID\":\"3\",\"sampling_location_on_grid\":\"25;17.25\",\"sampling_location_height_level\":\"5\",\"sun_exposure\":\"wf\",\"sampling_location_height_from_the_ground\":\"26\",\"sampling_location_closest_frame_level\":\"19\"},\"Collection\":{\"collection_protocol_ID\":\"1\",\"time_in_plastic_enclosure_before_collection\":\"1\",\"sample_treatment_before_collection\":\"Unwashed\",\"sampler_size\":\"S\",\"date-time_of_enclosure_placement\":\"2019-03-22T09:15:00-07:00\",\"date_of_enclosure_placement\":\"3/22/19\",\"time_of_enclosure_placement\":\"9:15\",\"date-time_of_collection\":\"2019-03-23T10:30:00-07:00\",\"date_of_collection\":\"23-Mar\",\"time_of_collection\":\"10:30\"}}\n",
      "{\"sample_type\":\"live_leaf_sample\",\"sample_replicate_number\":2,\"sample_number_displayed_on_tag\":\"49\",\"sample_name\":\"C3-H5-R2-1U\",\"Leaf_condition_before_enclosure\":\"BT\",\"leaf_age\":\"o\",\"leaf_condition_after_enclosure\":\"no change\",\"notes\":\"None\",\"Location\":{\"tree_host\":\"Clitoria\",\"tree_ID\":\"3\",\"sampling_location_on_grid\":\"25;17.25\",\"sampling_location_height_level\":\"5\",\"sun_exposure\":\"np\",\"sampling_location_height_from_the_ground\":\"26\",\"sampling_location_closest_frame_level\":\"19\"},\"Collection\":{\"collection_protocol_ID\":\"1\",\"time_in_plastic_enclosure_before_collection\":\"1\",\"sample_treatment_before_collection\":\"Unwashed\",\"sampler_size\":\"S\",\"date-time_of_enclosure_placement\":\"2019-03-22T09:15:00-07:00\",\"date_of_enclosure_placement\":\"3/22/19\",\"time_of_enclosure_placement\":\"9:15\",\"date-time_of_collection\":\"2019-03-23T10:30:00-07:00\",\"date_of_collection\":\"23-Mar\",\"time_of_collection\":\"10:30\"}}\n",
      "{\"sample_type\":\"live_leaf_sample\",\"sample_replicate_number\":3,\"sample_number_displayed_on_tag\":\"50\",\"sample_name\":\"C3-H5-R3-1U\",\"Leaf_condition_before_enclosure\":\"YS\",\"leaf_age\":\"o\",\"leaf_condition_after_enclosure\":\"no change\",\"notes\":\"None\",\"Location\":{\"tree_host\":\"Clitoria\",\"tree_ID\":\"3\",\"sampling_location_on_grid\":\"25;17.25\",\"sampling_location_height_level\":\"5\",\"sun_exposure\":\"wf\",\"sampling_location_height_from_the_ground\":\"26\",\"sampling_location_closest_frame_level\":\"19\"},\"Collection\":{\"collection_protocol_ID\":\"1\",\"time_in_plastic_enclosure_before_collection\":\"1\",\"sample_treatment_before_collection\":\"Unwashed\",\"sampler_size\":\"S\",\"date-time_of_enclosure_placement\":\"2019-03-22T09:15:00-07:00\",\"date_of_enclosure_placement\":\"3/22/19\",\"time_of_enclosure_placement\":\"9:15\",\"date-time_of_collection\":\"2019-03-23T10:30:00-07:00\",\"date_of_collection\":\"23-Mar\",\"time_of_collection\":\"10:30\"}}\n",
      "{\"sample_type\":\"live_leaf_sample\",\"sample_replicate_number\":None,\"sample_number_displayed_on_tag\":\"51\",\"sample_name\":\"C3-H5-CTRL\",\"Leaf_condition_before_enclosure\":\"G\",\"leaf_age\":\"None\",\"leaf_condition_after_enclosure\":\"NA; no change\",\"notes\":\"This is the only one I missed the sun direction for if that could be collected when it is taken down\",\"Location\":{\"tree_host\":\"Clitoria\",\"tree_ID\":\"3\",\"sampling_location_on_grid\":\"25;17.25\",\"sampling_location_height_level\":\"TBD\",\"sun_exposure\":\"f\",\"sampling_location_height_from_the_ground\":\"26\",\"sampling_location_closest_frame_level\":\"19\"},\"Collection\":{\"collection_protocol_ID\":\"1\",\"time_in_plastic_enclosure_before_collection\":\"1\",\"sample_treatment_before_collection\":\"CONTROL\",\"sampler_size\":\"S\",\"date-time_of_enclosure_placement\":\"2019-03-22T09:15:00-07:00\",\"date_of_enclosure_placement\":\"3/22/19\",\"time_of_enclosure_placement\":\"9:15\",\"date-time_of_collection\":\"2019-03-23T10:30:00-07:00\",\"date_of_collection\":\"23-Mar\",\"time_of_collection\":\"10:30\"}}\n",
      "{\"sample_type\":\"live_leaf_sample\",\"sample_replicate_number\":1,\"sample_number_displayed_on_tag\":\"55\",\"sample_name\":\"C4-H2-R1-1U\",\"Leaf_condition_before_enclosure\":\"G\",\"leaf_age\":\"o\",\"leaf_condition_after_enclosure\":\"no change\",\"notes\":\"Also the grids need to be redone I only realized it was helpful near the end so I got a few but when collecting they should be checked\",\"Location\":{\"tree_host\":\"Clitoria\",\"tree_ID\":\"4\",\"sampling_location_on_grid\":\"39.5;25\",\"sampling_location_height_level\":\"2\",\"sun_exposure\":\"np\",\"sampling_location_height_from_the_ground\":\"7\",\"sampling_location_closest_frame_level\":\"8\"},\"Collection\":{\"collection_protocol_ID\":\"1\",\"time_in_plastic_enclosure_before_collection\":\"1\",\"sample_treatment_before_collection\":\"Unwashed\",\"sampler_size\":\"S\",\"date-time_of_enclosure_placement\":\"2019-03-22T11:30:00-07:00\",\"date_of_enclosure_placement\":\"3/22/19\",\"time_of_enclosure_placement\":\"11:30\",\"date-time_of_collection\":\"2019-03-23T11:50:00-07:00\",\"date_of_collection\":\"23-Mar\",\"time_of_collection\":\"11:50\"}}\n",
      "{\"sample_type\":\"live_leaf_sample\",\"sample_replicate_number\":2,\"sample_number_displayed_on_tag\":\"56\",\"sample_name\":\"C4-H2-R2-1U\",\"Leaf_condition_before_enclosure\":\"G\",\"leaf_age\":\"n\",\"leaf_condition_after_enclosure\":\"no change\",\"notes\":\"None\",\"Location\":{\"tree_host\":\"Clitoria\",\"tree_ID\":\"4\",\"sampling_location_on_grid\":\"39.5;25\",\"sampling_location_height_level\":\"2\",\"sun_exposure\":\"ns\",\"sampling_location_height_from_the_ground\":\"5\",\"sampling_location_closest_frame_level\":\"6\"},\"Collection\":{\"collection_protocol_ID\":\"1\",\"time_in_plastic_enclosure_before_collection\":\"1\",\"sample_treatment_before_collection\":\"Unwashed\",\"sampler_size\":\"S\",\"date-time_of_enclosure_placement\":\"2019-03-22T11:30:00-07:00\",\"date_of_enclosure_placement\":\"3/22/19\",\"time_of_enclosure_placement\":\"11:30\",\"date-time_of_collection\":\"2019-03-23T11:50:00-07:00\",\"date_of_collection\":\"23-Mar\",\"time_of_collection\":\"11:50\"}}\n",
      "{\"sample_type\":\"live_leaf_sample\",\"sample_replicate_number\":3,\"sample_number_displayed_on_tag\":\"57\",\"sample_name\":\"C4-H2-R3-1U\",\"Leaf_condition_before_enclosure\":\"G\",\"leaf_age\":\"o\",\"leaf_condition_after_enclosure\":\"no change\",\"notes\":\"None\",\"Location\":{\"tree_host\":\"Clitoria\",\"tree_ID\":\"4\",\"sampling_location_on_grid\":\"39.5;25\",\"sampling_location_height_level\":\"2\",\"sun_exposure\":\"es\",\"sampling_location_height_from_the_ground\":\"5.5\",\"sampling_location_closest_frame_level\":\"6.5\"},\"Collection\":{\"collection_protocol_ID\":\"1\",\"time_in_plastic_enclosure_before_collection\":\"1\",\"sample_treatment_before_collection\":\"Unwashed\",\"sampler_size\":\"S\",\"date-time_of_enclosure_placement\":\"2019-03-22T11:30:00-07:00\",\"date_of_enclosure_placement\":\"3/22/19\",\"time_of_enclosure_placement\":\"11:30\",\"date-time_of_collection\":\"2019-03-23T11:50:00-07:00\",\"date_of_collection\":\"23-Mar\",\"time_of_collection\":\"11:50\"}}\n",
      "{\"sample_type\":\"live_leaf_sample\",\"sample_replicate_number\":1,\"sample_number_displayed_on_tag\":\"58\",\"sample_name\":\"C4-H3-R1-1U\",\"Leaf_condition_before_enclosure\":\"G\",\"leaf_age\":\"n\",\"leaf_condition_after_enclosure\":\"no change\",\"notes\":\"None\",\"Location\":{\"tree_host\":\"Clitoria\",\"tree_ID\":\"4\",\"sampling_location_on_grid\":\"35;20\",\"sampling_location_height_level\":\"3\",\"sun_exposure\":\"ss\",\"sampling_location_height_from_the_ground\":\"12\",\"sampling_location_closest_frame_level\":\"9\"},\"Collection\":{\"collection_protocol_ID\":\"1\",\"time_in_plastic_enclosure_before_collection\":\"1\",\"sample_treatment_before_collection\":\"Unwashed\",\"sampler_size\":\"S\",\"date-time_of_enclosure_placement\":\"2019-03-22T11:00:00-07:00\",\"date_of_enclosure_placement\":\"3/22/19\",\"time_of_enclosure_placement\":\"11:00\",\"date-time_of_collection\":\"2019-03-23T11:40:00-07:00\",\"date_of_collection\":\"23-Mar\",\"time_of_collection\":\"11:40\"}}\n",
      "{\"sample_type\":\"live_leaf_sample\",\"sample_replicate_number\":2,\"sample_number_displayed_on_tag\":\"59\",\"sample_name\":\"C4-H3-R2-1U\",\"Leaf_condition_before_enclosure\":\"G\",\"leaf_age\":\"m\",\"leaf_condition_after_enclosure\":\"no change\",\"notes\":\"None\",\"Location\":{\"tree_host\":\"Clitoria\",\"tree_ID\":\"4\",\"sampling_location_on_grid\":\"35;20\",\"sampling_location_height_level\":\"3\",\"sun_exposure\":\"ns\",\"sampling_location_height_from_the_ground\":\"13\",\"sampling_location_closest_frame_level\":\"10\"},\"Collection\":{\"collection_protocol_ID\":\"1\",\"time_in_plastic_enclosure_before_collection\":\"1\",\"sample_treatment_before_collection\":\"Unwashed\",\"sampler_size\":\"S\",\"date-time_of_enclosure_placement\":\"2019-03-22T11:00:00-07:00\",\"date_of_enclosure_placement\":\"3/22/19\",\"time_of_enclosure_placement\":\"11:00\",\"date-time_of_collection\":\"2019-03-23T11:40:00-07:00\",\"date_of_collection\":\"23-Mar\",\"time_of_collection\":\"11:40\"}}\n",
      "{\"sample_type\":\"live_leaf_sample\",\"sample_replicate_number\":3,\"sample_number_displayed_on_tag\":\"60\",\"sample_name\":\"C4-H3-R3-1U\",\"Leaf_condition_before_enclosure\":\"G\",\"leaf_age\":\"m\",\"leaf_condition_after_enclosure\":\"no change\",\"notes\":\"None\",\"Location\":{\"tree_host\":\"Clitoria\",\"tree_ID\":\"4\",\"sampling_location_on_grid\":\"35;20\",\"sampling_location_height_level\":\"3\",\"sun_exposure\":\"es\",\"sampling_location_height_from_the_ground\":\"14.5\",\"sampling_location_closest_frame_level\":\"11\"},\"Collection\":{\"collection_protocol_ID\":\"1\",\"time_in_plastic_enclosure_before_collection\":\"1\",\"sample_treatment_before_collection\":\"Unwashed\",\"sampler_size\":\"S\",\"date-time_of_enclosure_placement\":\"2019-03-22T11:00:00-07:00\",\"date_of_enclosure_placement\":\"3/22/19\",\"time_of_enclosure_placement\":\"11:00\",\"date-time_of_collection\":\"2019-03-23T11:40:00-07:00\",\"date_of_collection\":\"23-Mar\",\"time_of_collection\":\"11:40\"}}\n",
      "{\"sample_type\":\"live_leaf_sample\",\"sample_replicate_number\":None,\"sample_number_displayed_on_tag\":\"61\",\"sample_name\":\"C4-H4-CTRL\",\"Leaf_condition_before_enclosure\":\"None\",\"leaf_age\":\"None\",\"leaf_condition_after_enclosure\":\"NA; no change\",\"notes\":\"Fell during sampling, caught on branches, then recovered by catching before it hit the ground. Doesn't seem affected by fall. Number changed during placement to 61. ok as written here\",\"Location\":{\"tree_host\":\"Clitoria\",\"tree_ID\":\"4\",\"sampling_location_on_grid\":\"28;17.5\",\"sampling_location_height_level\":\"4\",\"sun_exposure\":\"np\",\"sampling_location_height_from_the_ground\":\"20\",\"sampling_location_closest_frame_level\":\"14\"},\"Collection\":{\"collection_protocol_ID\":\"1\",\"time_in_plastic_enclosure_before_collection\":\"1\",\"sample_treatment_before_collection\":\"CONTROL\",\"sampler_size\":\"S\",\"date-time_of_enclosure_placement\":\"2019-03-22T09:45:00-07:00\",\"date_of_enclosure_placement\":\"3/22/19\",\"time_of_enclosure_placement\":\"9:45\",\"date-time_of_collection\":\"2019-03-23T10:45:00-07:00\",\"date_of_collection\":\"23-Mar\",\"time_of_collection\":\"10:45\"}}\n",
      "{\"sample_type\":\"live_leaf_sample\",\"sample_replicate_number\":2,\"sample_number_displayed_on_tag\":\"62\",\"sample_name\":\"C4-H4-R2-1U\",\"Leaf_condition_before_enclosure\":\"big\",\"leaf_age\":\"n\",\"leaf_condition_after_enclosure\":\"no change\",\"notes\":\"None\",\"Location\":{\"tree_host\":\"Clitoria\",\"tree_ID\":\"4\",\"sampling_location_on_grid\":\"28;17.5\",\"sampling_location_height_level\":\"4\",\"sun_exposure\":\"ss\",\"sampling_location_height_from_the_ground\":\"19.5\",\"sampling_location_closest_frame_level\":\"15\"},\"Collection\":{\"collection_protocol_ID\":\"1\",\"time_in_plastic_enclosure_before_collection\":\"1\",\"sample_treatment_before_collection\":\"Unwashed\",\"sampler_size\":\"S\",\"date-time_of_enclosure_placement\":\"2019-03-22T09:45:00-07:00\",\"date_of_enclosure_placement\":\"3/22/19\",\"time_of_enclosure_placement\":\"9:45\",\"date-time_of_collection\":\"2019-03-23T10:45:00-07:00\",\"date_of_collection\":\"23-Mar\",\"time_of_collection\":\"10:45\"}}\n",
      "{\"sample_type\":\"live_leaf_sample\",\"sample_replicate_number\":3,\"sample_number_displayed_on_tag\":\"63\",\"sample_name\":\"C4-H4-R3-1U\",\"Leaf_condition_before_enclosure\":\"G\",\"leaf_age\":\"n\",\"leaf_condition_after_enclosure\":\"no change\",\"notes\":\"None\",\"Location\":{\"tree_host\":\"Clitoria\",\"tree_ID\":\"4\",\"sampling_location_on_grid\":\"28;17.5\",\"sampling_location_height_level\":\"4\",\"sun_exposure\":\"sp\",\"sampling_location_height_from_the_ground\":\"20\",\"sampling_location_closest_frame_level\":\"15\"},\"Collection\":{\"collection_protocol_ID\":\"1\",\"time_in_plastic_enclosure_before_collection\":\"1\",\"sample_treatment_before_collection\":\"Unwashed\",\"sampler_size\":\"S\",\"date-time_of_enclosure_placement\":\"2019-03-22T09:45:00-07:00\",\"date_of_enclosure_placement\":\"3/22/19\",\"time_of_enclosure_placement\":\"9:45\",\"date-time_of_collection\":\"2019-03-23T10:45:00-07:00\",\"date_of_collection\":\"23-Mar\",\"time_of_collection\":\"10:45\"}}\n",
      "{\"sample_type\":\"live_leaf_sample\",\"sample_replicate_number\":1,\"sample_number_displayed_on_tag\":\"64\",\"sample_name\":\"C4-H5-R1-1U\",\"Leaf_condition_before_enclosure\":\"G\",\"leaf_age\":\"m\",\"leaf_condition_after_enclosure\":\"no change\",\"notes\":\"Only two leaves in enclosure when collected. Unclear if that was the case when placed. above north side of pond\",\"Location\":{\"tree_host\":\"Clitoria\",\"tree_ID\":\"4\",\"sampling_location_on_grid\":\"15;22\",\"sampling_location_height_level\":\"5\",\"sun_exposure\":\"nf\",\"sampling_location_height_from_the_ground\":\"13\",\"sampling_location_closest_frame_level\":\"19\"},\"Collection\":{\"collection_protocol_ID\":\"1\",\"time_in_plastic_enclosure_before_collection\":\"1\",\"sample_treatment_before_collection\":\"Unwashed\",\"sampler_size\":\"S\",\"date-time_of_enclosure_placement\":\"2019-03-22T08:45:00-07:00\",\"date_of_enclosure_placement\":\"3/22/19\",\"time_of_enclosure_placement\":\"8:45\",\"date-time_of_collection\":\"2019-03-23T10:15:00-07:00\",\"date_of_collection\":\"23-Mar\",\"time_of_collection\":\"10:15\"}}\n",
      "{\"sample_type\":\"live_leaf_sample\",\"sample_replicate_number\":2,\"sample_number_displayed_on_tag\":\"65\",\"sample_name\":\"C4-H5-R2-1U\",\"Leaf_condition_before_enclosure\":\"G\",\"leaf_age\":\"m\",\"leaf_condition_after_enclosure\":\"no change\",\"notes\":\"above north side of pond\",\"Location\":{\"tree_host\":\"Clitoria\",\"tree_ID\":\"4\",\"sampling_location_on_grid\":\"15;22\",\"sampling_location_height_level\":\"5\",\"sun_exposure\":\"nf\",\"sampling_location_height_from_the_ground\":\"13\",\"sampling_location_closest_frame_level\":\"19\"},\"Collection\":{\"collection_protocol_ID\":\"1\",\"time_in_plastic_enclosure_before_collection\":\"1\",\"sample_treatment_before_collection\":\"Unwashed\",\"sampler_size\":\"S\",\"date-time_of_enclosure_placement\":\"2019-03-22T08:45:00-07:00\",\"date_of_enclosure_placement\":\"3/22/19\",\"time_of_enclosure_placement\":\"8:45\",\"date-time_of_collection\":\"2019-03-23T10:15:00-07:00\",\"date_of_collection\":\"23-Mar\",\"time_of_collection\":\"10:15\"}}\n",
      "{\"sample_type\":\"live_leaf_sample\",\"sample_replicate_number\":3,\"sample_number_displayed_on_tag\":\"66\",\"sample_name\":\"C4-H5-R3-1U\",\"Leaf_condition_before_enclosure\":\"BTYS\",\"leaf_age\":\"o\",\"leaf_condition_after_enclosure\":\"no change\",\"notes\":\"above north side of pond\",\"Location\":{\"tree_host\":\"Clitoria\",\"tree_ID\":\"4\",\"sampling_location_on_grid\":\"15;22\",\"sampling_location_height_level\":\"5\",\"sun_exposure\":\"nf\",\"sampling_location_height_from_the_ground\":\"13\",\"sampling_location_closest_frame_level\":\"19\"},\"Collection\":{\"collection_protocol_ID\":\"1\",\"time_in_plastic_enclosure_before_collection\":\"1\",\"sample_treatment_before_collection\":\"Unwashed\",\"sampler_size\":\"S\",\"date-time_of_enclosure_placement\":\"2019-03-22T08:45:00-07:00\",\"date_of_enclosure_placement\":\"3/22/19\",\"time_of_enclosure_placement\":\"8:45\",\"date-time_of_collection\":\"2019-03-23T10:15:00-07:00\",\"date_of_collection\":\"23-Mar\",\"time_of_collection\":\"10:15\"}}\n",
      "{\"sample_type\":\"live_leaf_sample\",\"sample_replicate_number\":None,\"sample_number_displayed_on_tag\":\"67\",\"sample_name\":\"C4-H5-C1-1U\",\"Leaf_condition_before_enclosure\":\"None\",\"leaf_age\":\"None\",\"leaf_condition_after_enclosure\":\"NA; no change\",\"notes\":\"above north side of pond\",\"Location\":{\"tree_host\":\"Clitoria\",\"tree_ID\":\"4\",\"sampling_location_on_grid\":\"15;22\",\"sampling_location_height_level\":\"TBD\",\"sun_exposure\":\"nf\",\"sampling_location_height_from_the_ground\":\"13\",\"sampling_location_closest_frame_level\":\"19\"},\"Collection\":{\"collection_protocol_ID\":\"1\",\"time_in_plastic_enclosure_before_collection\":\"1\",\"sample_treatment_before_collection\":\"CONTROL\",\"sampler_size\":\"S\",\"date-time_of_enclosure_placement\":\"2019-03-22T08:45:00-07:00\",\"date_of_enclosure_placement\":\"3/22/19\",\"time_of_enclosure_placement\":\"8:45\",\"date-time_of_collection\":\"2019-03-23T10:15:00-07:00\",\"date_of_collection\":\"23-Mar\",\"time_of_collection\":\"10:15\"}}\n",
      "{\"sample_type\":\"live_leaf_sample\",\"sample_replicate_number\":1,\"sample_number_displayed_on_tag\":\"68\",\"sample_name\":\"C4-H4-R1-1U\",\"Leaf_condition_before_enclosure\":\"\",\"leaf_age\":\"n\",\"leaf_condition_after_enclosure\":\"no change\",\"notes\":\"Number changed during placement to 68. ok as written here\",\"Location\":{\"tree_host\":\"Clitoria\",\"tree_ID\":\"4\",\"sampling_location_on_grid\":\"28;17.5\",\"sampling_location_height_level\":\"4\",\"sun_exposure\":\"ss\",\"sampling_location_height_from_the_ground\":\"19.5\",\"sampling_location_closest_frame_level\":\"15\"},\"Collection\":{\"collection_protocol_ID\":\"1\",\"time_in_plastic_enclosure_before_collection\":\"1\",\"sample_treatment_before_collection\":\"Unwashed\",\"sampler_size\":\"S\",\"date-time_of_enclosure_placement\":\"2019-03-22T09:45:00-07:00\",\"date_of_enclosure_placement\":\"3/22/19\",\"time_of_enclosure_placement\":\"9:45\",\"date-time_of_collection\":\"2019-03-23T10:45:00-07:00\",\"date_of_collection\":\"23-Mar\",\"time_of_collection\":\"10:45\"}}\n",
      "{\"sample_type\":\"live_leaf_sample\",\"sample_replicate_number\":None,\"sample_number_displayed_on_tag\":\"69\",\"sample_name\":\"C3-H4-CTRL\",\"Leaf_condition_before_enclosure\":\"None\",\"leaf_age\":\"None\",\"leaf_condition_after_enclosure\":\"NA; no change\",\"notes\":\"None\",\"Location\":{\"tree_host\":\"Clitoria\",\"tree_ID\":\"3\",\"sampling_location_on_grid\":\"30;10.5\",\"sampling_location_height_level\":\"4\",\"sun_exposure\":\"ws\",\"sampling_location_height_from_the_ground\":\"20\",\"sampling_location_closest_frame_level\":\"15\"},\"Collection\":{\"collection_protocol_ID\":\"1\",\"time_in_plastic_enclosure_before_collection\":\"1\",\"sample_treatment_before_collection\":\"CONTROL\",\"sampler_size\":\"S\",\"date-time_of_enclosure_placement\":\"2019-03-22T10:45:00-07:00\",\"date_of_enclosure_placement\":\"3/22/19\",\"time_of_enclosure_placement\":\"10:15\",\"date-time_of_collection\":\"2019-03-23T11:07:00-07:00\",\"date_of_collection\":\"23-Mar\",\"time_of_collection\":\"11:07\"}}\n"
     ]
    }
   ],
   "source": [
    "nb_samples=my_frame.shape[0]\n",
    "\n",
    "for i in range(0,nb_samples):\n",
    "    curr_slice=my_frame[i]\n",
    "    line=\"{\"\n",
    "    #process the specimen description\n",
    "    for i in range(len(Specimen_description)):\n",
    "        Key=Specimen_description[i]\n",
    "        if attribute_types[Key]==\"int\" or attribute_types[Key]==\"float\" or attribute_types[Key]==\"num\":\n",
    "            attribute=str(curr_slice[Specimen_description[i]])\n",
    "        elif attribute_types[Key]==\"date-time\":\n",
    "            if str(curr_slice[Specimen_description[i]])==\"NA\" or str(curr_slice[Specimen_description[i]])==\"None\":\n",
    "                attribute=\"\\\"None\\\"\"\n",
    "            else:\n",
    "                attribute=\"{$date:\\\"\"+str(curr_slice[Specimen_description[i]])+\"\\\"}\"\n",
    "        else:\n",
    "            attribute=\"\\\"\"+str(curr_slice[Specimen_description[i]])+\"\\\"\"\n",
    "        line=line+\"\\\"\"+Key+\"\\\":\"+attribute+\",\"\n",
    "\n",
    "    #print(\"#### \"+line)\n",
    "    \n",
    "    #process the Location description\n",
    "    line=line+\"\\\"Location\\\":{\"\n",
    "    for i in range(len(Location)):\n",
    "        Key=Location[i]\n",
    "        if attribute_types[Key]==\"int\" or attribute_types[Key]==\"float\":\n",
    "            attribute=str(curr_slice[Location[i]])\n",
    "        elif attribute_types[Key]==\"dateTime\":\n",
    "            if str(curr_slice[Location[i]])==\"NA\" or str(curr_slice[Location[i]])==\"None\":\n",
    "                attribute=\"\\\"None\\\"\"\n",
    "            else:\n",
    "                attribute=\"{$date:\\\"\"+str(curr_slice[Location[i]])+\"\\\"}\"\n",
    "        else:\n",
    "            attribute=\"\\\"\"+str(curr_slice[Location[i]])+\"\\\"\"\n",
    "        line=line+\"\\\"\"+Key+\"\\\":\"+attribute\n",
    "        \n",
    "        if i==len(Location)-1:\n",
    "            line=line+\"},\"\n",
    "        else:\n",
    "            line=line+\",\"\n",
    "    #print(\"#### \"+line)\n",
    "\n",
    "    #process the Collection description\n",
    "    line=line+\"\\\"Collection\\\":{\"\n",
    "    for i in range(len(Collection)):\n",
    "        Key=Collection[i]\n",
    "        if attribute_types[Key]==\"int\" or attribute_types[Key]==\"float\":\n",
    "            attribute=str(curr_slice[Collection[i]])\n",
    "        elif attribute_types[Key]==\"dateTime\":\n",
    "            if str(curr_slice[Collection[i]])==\"NA\" or str(curr_slice[Collection[i]])==\"None\":\n",
    "                attribute=\"\\\"None\\\"\"\n",
    "            else:\n",
    "                attribute=\"{$date:\\\"\"+str(curr_slice[Collection[i]])+\"\\\"}\"\n",
    "        else:\n",
    "            attribute=\"\\\"\"+str(curr_slice[Collection[i]])+\"\\\"\"\n",
    "        line=line+\"\\\"\"+Key+\"\\\":\"+attribute\n",
    "        \n",
    "        if i==len(Collection)-1:\n",
    "            line=line+\"}\"\n",
    "        else:\n",
    "            line=line+\",\"\n",
    "    \n",
    "    \n",
    "    line=line+\"}\"\n",
    "    fout.write(line+\"\\n\")\n",
    "    print(line)\n",
    "    "
   ]
  },
  {
   "cell_type": "code",
   "execution_count": 42,
   "metadata": {
    "collapsed": false
   },
   "outputs": [],
   "source": [
    "fout.close()"
   ]
  },
  {
   "cell_type": "code",
   "execution_count": null,
   "metadata": {
    "collapsed": true
   },
   "outputs": [],
   "source": []
  }
 ],
 "metadata": {
  "kernelspec": {
   "display_name": "Python 2",
   "language": "python",
   "name": "python2"
  },
  "language_info": {
   "codemirror_mode": {
    "name": "ipython",
    "version": 2
   },
   "file_extension": ".py",
   "mimetype": "text/x-python",
   "name": "python",
   "nbconvert_exporter": "python",
   "pygments_lexer": "ipython2",
   "version": "2.7.11"
  }
 },
 "nbformat": 4,
 "nbformat_minor": 2
}
