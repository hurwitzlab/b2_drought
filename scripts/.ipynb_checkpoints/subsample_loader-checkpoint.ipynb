{
 "cells": [
  {
   "cell_type": "code",
   "execution_count": 1,
   "metadata": {
    "collapsed": true
   },
   "outputs": [],
   "source": [
    "import graphlab"
   ]
  },
  {
   "cell_type": "code",
   "execution_count": 16,
   "metadata": {
    "collapsed": true
   },
   "outputs": [],
   "source": [
    "#input files\n",
    "dir_csv=\"/Users/aponsero/Documents/UA_POSTDOC/projects/B2_project/MongoDB_ingest/test_passive_samplers/samples\"\n",
    "dir_voc=\"/Users/aponsero/Documents/UA_POSTDOC/projects/B2_project/b2_drought/vocabulary\"\n",
    "file_csv=dir_csv+\"/mapped_convert_subsamples_leaves.csv\"\n",
    "vocabulary_file=dir_voc+\"/specimen_controlled_vocabulary.csv\"\n",
    "typology_file=dir_voc+\"/specimen_typology.csv\"\n",
    "\n",
    "#output file\n",
    "out_dir=\"/Users/aponsero/Documents/UA_POSTDOC/projects/B2_project/MongoDB_ingest/test_passive_samplers/samples\"\n",
    "json_file=out_dir+\"/subsamples_leaves.json\"\n",
    "fout = open(json_file, \"a\")\n",
    "\n",
    "#sample type\n",
    "my_sample_type=\"subsample_live_leaf_sample\""
   ]
  },
  {
   "cell_type": "code",
   "execution_count": 20,
   "metadata": {
    "collapsed": false
   },
   "outputs": [
    {
     "data": {
      "text/html": [
       "<pre>Read 46 lines. Lines per second: 1820.56</pre>"
      ],
      "text/plain": [
       "Read 46 lines. Lines per second: 1820.56"
      ]
     },
     "metadata": {},
     "output_type": "display_data"
    },
    {
     "data": {
      "text/html": [
       "<pre>Finished parsing file /Users/aponsero/Documents/UA_POSTDOC/projects/B2_project/MongoDB_ingest/test_passive_samplers/samples/mapped_convert_subsamples_leaves.csv</pre>"
      ],
      "text/plain": [
       "Finished parsing file /Users/aponsero/Documents/UA_POSTDOC/projects/B2_project/MongoDB_ingest/test_passive_samplers/samples/mapped_convert_subsamples_leaves.csv"
      ]
     },
     "metadata": {},
     "output_type": "display_data"
    },
    {
     "data": {
      "text/html": [
       "<pre>Parsing completed. Parsed 46 lines in 0.054716 secs.</pre>"
      ],
      "text/plain": [
       "Parsing completed. Parsed 46 lines in 0.054716 secs."
      ]
     },
     "metadata": {},
     "output_type": "display_data"
    },
    {
     "data": {
      "text/html": [
       "<div style=\"max-height:1000px;max-width:1500px;overflow:auto;\"><table frame=\"box\" rules=\"cols\">\n",
       "    <tr>\n",
       "        <th style=\"padding-left: 1em; padding-right: 1em; text-align: center\">sample_type</th>\n",
       "        <th style=\"padding-left: 1em; padding-right: 1em; text-align: center\">sample_ID</th>\n",
       "        <th style=\"padding-left: 1em; padding-right: 1em; text-align: center\">parent_sample_name</th>\n",
       "        <th style=\"padding-left: 1em; padding-right: 1em; text-align: center\">parent_sample_ID</th>\n",
       "        <th style=\"padding-left: 1em; padding-right: 1em; text-align: center\">date_of_subsampling</th>\n",
       "        <th style=\"padding-left: 1em; padding-right: 1em; text-align: center\">operator</th>\n",
       "    </tr>\n",
       "    <tr>\n",
       "        <td style=\"padding-left: 1em; padding-right: 1em; text-align: center; vertical-align: top\">sub_live_leaf_sample</td>\n",
       "        <td style=\"padding-left: 1em; padding-right: 1em; text-align: center; vertical-align: top\">b2_pd_52</td>\n",
       "        <td style=\"padding-left: 1em; padding-right: 1em; text-align: center; vertical-align: top\">C1-H1-R2-2U</td>\n",
       "        <td style=\"padding-left: 1em; padding-right: 1em; text-align: center; vertical-align: top\">b2_pd_1</td>\n",
       "        <td style=\"padding-left: 1em; padding-right: 1em; text-align: center; vertical-align: top\">2019-03-25T00:00:00-07:00</td>\n",
       "        <td style=\"padding-left: 1em; padding-right: 1em; text-align: center; vertical-align: top\">Laura Meredith</td>\n",
       "    </tr>\n",
       "    <tr>\n",
       "        <td style=\"padding-left: 1em; padding-right: 1em; text-align: center; vertical-align: top\">sub_live_leaf_sample</td>\n",
       "        <td style=\"padding-left: 1em; padding-right: 1em; text-align: center; vertical-align: top\">b2_pd_53</td>\n",
       "        <td style=\"padding-left: 1em; padding-right: 1em; text-align: center; vertical-align: top\">C1-H1-R3-2U</td>\n",
       "        <td style=\"padding-left: 1em; padding-right: 1em; text-align: center; vertical-align: top\">b2_pd_2</td>\n",
       "        <td style=\"padding-left: 1em; padding-right: 1em; text-align: center; vertical-align: top\">2019-03-25T00:00:00-07:00</td>\n",
       "        <td style=\"padding-left: 1em; padding-right: 1em; text-align: center; vertical-align: top\">Laura Meredith</td>\n",
       "    </tr>\n",
       "    <tr>\n",
       "        <td style=\"padding-left: 1em; padding-right: 1em; text-align: center; vertical-align: top\">sub_live_leaf_sample</td>\n",
       "        <td style=\"padding-left: 1em; padding-right: 1em; text-align: center; vertical-align: top\">b2_pd_54</td>\n",
       "        <td style=\"padding-left: 1em; padding-right: 1em; text-align: center; vertical-align: top\">C1-H1-R1-4U</td>\n",
       "        <td style=\"padding-left: 1em; padding-right: 1em; text-align: center; vertical-align: top\">b2_pd_3</td>\n",
       "        <td style=\"padding-left: 1em; padding-right: 1em; text-align: center; vertical-align: top\">2019-03-26T00:00:00-07:00</td>\n",
       "        <td style=\"padding-left: 1em; padding-right: 1em; text-align: center; vertical-align: top\">Laura Meredith</td>\n",
       "    </tr>\n",
       "    <tr>\n",
       "        <td style=\"padding-left: 1em; padding-right: 1em; text-align: center; vertical-align: top\">sub_live_leaf_sample</td>\n",
       "        <td style=\"padding-left: 1em; padding-right: 1em; text-align: center; vertical-align: top\">b2_pd_55</td>\n",
       "        <td style=\"padding-left: 1em; padding-right: 1em; text-align: center; vertical-align: top\">C1-H1-R2-4U</td>\n",
       "        <td style=\"padding-left: 1em; padding-right: 1em; text-align: center; vertical-align: top\">b2_pd_4</td>\n",
       "        <td style=\"padding-left: 1em; padding-right: 1em; text-align: center; vertical-align: top\">2019-03-26T00:00:00-07:00</td>\n",
       "        <td style=\"padding-left: 1em; padding-right: 1em; text-align: center; vertical-align: top\">Laura Meredith</td>\n",
       "    </tr>\n",
       "    <tr>\n",
       "        <td style=\"padding-left: 1em; padding-right: 1em; text-align: center; vertical-align: top\">sub_live_leaf_sample</td>\n",
       "        <td style=\"padding-left: 1em; padding-right: 1em; text-align: center; vertical-align: top\">b2_pd_56</td>\n",
       "        <td style=\"padding-left: 1em; padding-right: 1em; text-align: center; vertical-align: top\">C1-H1-R3-4U</td>\n",
       "        <td style=\"padding-left: 1em; padding-right: 1em; text-align: center; vertical-align: top\">b2_pd_5</td>\n",
       "        <td style=\"padding-left: 1em; padding-right: 1em; text-align: center; vertical-align: top\">2019-03-27T00:00:00-07:00</td>\n",
       "        <td style=\"padding-left: 1em; padding-right: 1em; text-align: center; vertical-align: top\">Laura Meredith</td>\n",
       "    </tr>\n",
       "    <tr>\n",
       "        <td style=\"padding-left: 1em; padding-right: 1em; text-align: center; vertical-align: top\">sub_live_leaf_sample</td>\n",
       "        <td style=\"padding-left: 1em; padding-right: 1em; text-align: center; vertical-align: top\">b2_pd_57</td>\n",
       "        <td style=\"padding-left: 1em; padding-right: 1em; text-align: center; vertical-align: top\">C1-H1-R1-4W</td>\n",
       "        <td style=\"padding-left: 1em; padding-right: 1em; text-align: center; vertical-align: top\">b2_pd_6</td>\n",
       "        <td style=\"padding-left: 1em; padding-right: 1em; text-align: center; vertical-align: top\">2019-03-26T00:00:00-07:00</td>\n",
       "        <td style=\"padding-left: 1em; padding-right: 1em; text-align: center; vertical-align: top\">Laura Meredith</td>\n",
       "    </tr>\n",
       "    <tr>\n",
       "        <td style=\"padding-left: 1em; padding-right: 1em; text-align: center; vertical-align: top\">sub_live_leaf_sample</td>\n",
       "        <td style=\"padding-left: 1em; padding-right: 1em; text-align: center; vertical-align: top\">b2_pd_58</td>\n",
       "        <td style=\"padding-left: 1em; padding-right: 1em; text-align: center; vertical-align: top\">C1-H1-R2-4W</td>\n",
       "        <td style=\"padding-left: 1em; padding-right: 1em; text-align: center; vertical-align: top\">b2_pd_7</td>\n",
       "        <td style=\"padding-left: 1em; padding-right: 1em; text-align: center; vertical-align: top\">2019-03-26T00:00:00-07:00</td>\n",
       "        <td style=\"padding-left: 1em; padding-right: 1em; text-align: center; vertical-align: top\">Laura Meredith</td>\n",
       "    </tr>\n",
       "    <tr>\n",
       "        <td style=\"padding-left: 1em; padding-right: 1em; text-align: center; vertical-align: top\">sub_live_leaf_sample</td>\n",
       "        <td style=\"padding-left: 1em; padding-right: 1em; text-align: center; vertical-align: top\">b2_pd_59</td>\n",
       "        <td style=\"padding-left: 1em; padding-right: 1em; text-align: center; vertical-align: top\">C1-H1-R3-4W</td>\n",
       "        <td style=\"padding-left: 1em; padding-right: 1em; text-align: center; vertical-align: top\">b2_pd_8</td>\n",
       "        <td style=\"padding-left: 1em; padding-right: 1em; text-align: center; vertical-align: top\">2019-03-27T00:00:00-07:00</td>\n",
       "        <td style=\"padding-left: 1em; padding-right: 1em; text-align: center; vertical-align: top\">Laura Meredith</td>\n",
       "    </tr>\n",
       "    <tr>\n",
       "        <td style=\"padding-left: 1em; padding-right: 1em; text-align: center; vertical-align: top\">sub_live_leaf_sample</td>\n",
       "        <td style=\"padding-left: 1em; padding-right: 1em; text-align: center; vertical-align: top\">b2_pd_60</td>\n",
       "        <td style=\"padding-left: 1em; padding-right: 1em; text-align: center; vertical-align: top\">C2-H1-R1-1U</td>\n",
       "        <td style=\"padding-left: 1em; padding-right: 1em; text-align: center; vertical-align: top\">b2_pd_10</td>\n",
       "        <td style=\"padding-left: 1em; padding-right: 1em; text-align: center; vertical-align: top\">2019-03-25T00:00:00-07:00</td>\n",
       "        <td style=\"padding-left: 1em; padding-right: 1em; text-align: center; vertical-align: top\">Laura Meredith</td>\n",
       "    </tr>\n",
       "    <tr>\n",
       "        <td style=\"padding-left: 1em; padding-right: 1em; text-align: center; vertical-align: top\">sub_live_leaf_sample</td>\n",
       "        <td style=\"padding-left: 1em; padding-right: 1em; text-align: center; vertical-align: top\">b2_pd_61</td>\n",
       "        <td style=\"padding-left: 1em; padding-right: 1em; text-align: center; vertical-align: top\">C2-H1-R2-1U</td>\n",
       "        <td style=\"padding-left: 1em; padding-right: 1em; text-align: center; vertical-align: top\">b2_pd_11</td>\n",
       "        <td style=\"padding-left: 1em; padding-right: 1em; text-align: center; vertical-align: top\">2019-03-25T00:00:00-07:00</td>\n",
       "        <td style=\"padding-left: 1em; padding-right: 1em; text-align: center; vertical-align: top\">Laura Meredith</td>\n",
       "    </tr>\n",
       "</table>\n",
       "[46 rows x 6 columns]<br/>Note: Only the head of the SFrame is printed.<br/>You can use print_rows(num_rows=m, num_columns=n) to print more rows and columns.\n",
       "</div>"
      ],
      "text/plain": [
       "Columns:\n",
       "\tsample_type\tstr\n",
       "\tsample_ID\tstr\n",
       "\tparent_sample_name\tstr\n",
       "\tparent_sample_ID\tstr\n",
       "\tdate_of_subsampling\tstr\n",
       "\toperator\tstr\n",
       "\n",
       "Rows: 46\n",
       "\n",
       "Data:\n",
       "+----------------------+-----------+--------------------+------------------+\n",
       "|     sample_type      | sample_ID | parent_sample_name | parent_sample_ID |\n",
       "+----------------------+-----------+--------------------+------------------+\n",
       "| sub_live_leaf_sample |  b2_pd_52 |    C1-H1-R2-2U     |     b2_pd_1      |\n",
       "| sub_live_leaf_sample |  b2_pd_53 |    C1-H1-R3-2U     |     b2_pd_2      |\n",
       "| sub_live_leaf_sample |  b2_pd_54 |    C1-H1-R1-4U     |     b2_pd_3      |\n",
       "| sub_live_leaf_sample |  b2_pd_55 |    C1-H1-R2-4U     |     b2_pd_4      |\n",
       "| sub_live_leaf_sample |  b2_pd_56 |    C1-H1-R3-4U     |     b2_pd_5      |\n",
       "| sub_live_leaf_sample |  b2_pd_57 |    C1-H1-R1-4W     |     b2_pd_6      |\n",
       "| sub_live_leaf_sample |  b2_pd_58 |    C1-H1-R2-4W     |     b2_pd_7      |\n",
       "| sub_live_leaf_sample |  b2_pd_59 |    C1-H1-R3-4W     |     b2_pd_8      |\n",
       "| sub_live_leaf_sample |  b2_pd_60 |    C2-H1-R1-1U     |     b2_pd_10     |\n",
       "| sub_live_leaf_sample |  b2_pd_61 |    C2-H1-R2-1U     |     b2_pd_11     |\n",
       "+----------------------+-----------+--------------------+------------------+\n",
       "+---------------------------+----------------+\n",
       "|    date_of_subsampling    |    operator    |\n",
       "+---------------------------+----------------+\n",
       "| 2019-03-25T00:00:00-07:00 | Laura Meredith |\n",
       "| 2019-03-25T00:00:00-07:00 | Laura Meredith |\n",
       "| 2019-03-26T00:00:00-07:00 | Laura Meredith |\n",
       "| 2019-03-26T00:00:00-07:00 | Laura Meredith |\n",
       "| 2019-03-27T00:00:00-07:00 | Laura Meredith |\n",
       "| 2019-03-26T00:00:00-07:00 | Laura Meredith |\n",
       "| 2019-03-26T00:00:00-07:00 | Laura Meredith |\n",
       "| 2019-03-27T00:00:00-07:00 | Laura Meredith |\n",
       "| 2019-03-25T00:00:00-07:00 | Laura Meredith |\n",
       "| 2019-03-25T00:00:00-07:00 | Laura Meredith |\n",
       "+---------------------------+----------------+\n",
       "[46 rows x 6 columns]\n",
       "Note: Only the head of the SFrame is printed.\n",
       "You can use print_rows(num_rows=m, num_columns=n) to print more rows and columns."
      ]
     },
     "execution_count": 20,
     "metadata": {},
     "output_type": "execute_result"
    }
   ],
   "source": [
    "my_frame=graphlab.SFrame.read_csv(file_csv, column_type_hints=str)\n",
    "my_frame"
   ]
  },
  {
   "cell_type": "code",
   "execution_count": 18,
   "metadata": {
    "collapsed": false
   },
   "outputs": [
    {
     "data": {
      "text/html": [
       "<pre>Finished parsing file /Users/aponsero/Documents/UA_POSTDOC/projects/B2_project/b2_drought/vocabulary/specimen_typology.csv</pre>"
      ],
      "text/plain": [
       "Finished parsing file /Users/aponsero/Documents/UA_POSTDOC/projects/B2_project/b2_drought/vocabulary/specimen_typology.csv"
      ]
     },
     "metadata": {},
     "output_type": "display_data"
    },
    {
     "data": {
      "text/html": [
       "<pre>Parsing completed. Parsed 89 lines in 0.023695 secs.</pre>"
      ],
      "text/plain": [
       "Parsing completed. Parsed 89 lines in 0.023695 secs."
      ]
     },
     "metadata": {},
     "output_type": "display_data"
    },
    {
     "name": "stdout",
     "output_type": "stream",
     "text": [
      "date_of_subsampling: OK\n",
      "operator: OK\n",
      "parent_sample_name: OK\n",
      "parent_sample_ID: OK\n",
      "The document passes the checklist\n"
     ]
    }
   ],
   "source": [
    "#minimum information checklist\n",
    "my_typo=graphlab.SFrame.read_csv(typology_file, column_type_hints=str)\n",
    "\n",
    "minimum_tab=my_typo[(my_typo['Types'] == my_sample_type)]\n",
    "minimum_fields=minimum_tab['required_fields']\n",
    "\n",
    "for x in minimum_fields:\n",
    "    if x in my_frame.column_names():\n",
    "        print(x+\": OK\")\n",
    "    else :\n",
    "        print(x+\" : not found\")\n",
    "\n",
    "\n",
    "check =  all(elem in my_frame.column_names() for elem in minimum_fields)\n",
    " \n",
    "if check:\n",
    "    print(\"The document passes the checklist\")    \n",
    "else :\n",
    "    print(\"Warning : minimum attributes missing !\")"
   ]
  },
  {
   "cell_type": "code",
   "execution_count": 19,
   "metadata": {
    "collapsed": false
   },
   "outputs": [
    {
     "data": {
      "text/html": [
       "<pre>Finished parsing file /Users/aponsero/Documents/UA_POSTDOC/projects/B2_project/b2_drought/vocabulary/specimen_controlled_vocabulary.csv</pre>"
      ],
      "text/plain": [
       "Finished parsing file /Users/aponsero/Documents/UA_POSTDOC/projects/B2_project/b2_drought/vocabulary/specimen_controlled_vocabulary.csv"
      ]
     },
     "metadata": {},
     "output_type": "display_data"
    },
    {
     "data": {
      "text/html": [
       "<pre>Parsing completed. Parsed 31 lines in 0.096045 secs.</pre>"
      ],
      "text/plain": [
       "Parsing completed. Parsed 31 lines in 0.096045 secs."
      ]
     },
     "metadata": {},
     "output_type": "display_data"
    },
    {
     "data": {
      "text/html": [
       "<div style=\"max-height:1000px;max-width:1500px;overflow:auto;\"><table frame=\"box\" rules=\"cols\">\n",
       "    <tr>\n",
       "        <th style=\"padding-left: 1em; padding-right: 1em; text-align: center\">Term</th>\n",
       "        <th style=\"padding-left: 1em; padding-right: 1em; text-align: center\">Displayed_term</th>\n",
       "        <th style=\"padding-left: 1em; padding-right: 1em; text-align: center\">Definition</th>\n",
       "        <th style=\"padding-left: 1em; padding-right: 1em; text-align: center\">Section_object</th>\n",
       "        <th style=\"padding-left: 1em; padding-right: 1em; text-align: center\">Units</th>\n",
       "    </tr>\n",
       "    <tr>\n",
       "        <td style=\"padding-left: 1em; padding-right: 1em; text-align: center; vertical-align: top\">sample_ID</td>\n",
       "        <td style=\"padding-left: 1em; padding-right: 1em; text-align: center; vertical-align: top\">sample ID</td>\n",
       "        <td style=\"padding-left: 1em; padding-right: 1em; text-align: center; vertical-align: top\">Unique identifier for the<br>sample. ...</td>\n",
       "        <td style=\"padding-left: 1em; padding-right: 1em; text-align: center; vertical-align: top\">Specimen_description</td>\n",
       "        <td style=\"padding-left: 1em; padding-right: 1em; text-align: center; vertical-align: top\"></td>\n",
       "    </tr>\n",
       "    <tr>\n",
       "        <td style=\"padding-left: 1em; padding-right: 1em; text-align: center; vertical-align: top\">sample_type</td>\n",
       "        <td style=\"padding-left: 1em; padding-right: 1em; text-align: center; vertical-align: top\">sample type</td>\n",
       "        <td style=\"padding-left: 1em; padding-right: 1em; text-align: center; vertical-align: top\">type of sample. Follows<br>one of the types of ...</td>\n",
       "        <td style=\"padding-left: 1em; padding-right: 1em; text-align: center; vertical-align: top\">Specimen_description</td>\n",
       "        <td style=\"padding-left: 1em; padding-right: 1em; text-align: center; vertical-align: top\"></td>\n",
       "    </tr>\n",
       "    <tr>\n",
       "        <td style=\"padding-left: 1em; padding-right: 1em; text-align: center; vertical-align: top\">collection_protocol_ID</td>\n",
       "        <td style=\"padding-left: 1em; padding-right: 1em; text-align: center; vertical-align: top\">collection protocol ID</td>\n",
       "        <td style=\"padding-left: 1em; padding-right: 1em; text-align: center; vertical-align: top\">ID for the protocol used<br>during the sampling e ...</td>\n",
       "        <td style=\"padding-left: 1em; padding-right: 1em; text-align: center; vertical-align: top\">Collection</td>\n",
       "        <td style=\"padding-left: 1em; padding-right: 1em; text-align: center; vertical-align: top\"></td>\n",
       "    </tr>\n",
       "    <tr>\n",
       "        <td style=\"padding-left: 1em; padding-right: 1em; text-align: center; vertical-align: top\">tree_host</td>\n",
       "        <td style=\"padding-left: 1em; padding-right: 1em; text-align: center; vertical-align: top\">tree host</td>\n",
       "        <td style=\"padding-left: 1em; padding-right: 1em; text-align: center; vertical-align: top\">For sample of type \"live<br>leaf sample\" or \"root ...</td>\n",
       "        <td style=\"padding-left: 1em; padding-right: 1em; text-align: center; vertical-align: top\">Location</td>\n",
       "        <td style=\"padding-left: 1em; padding-right: 1em; text-align: center; vertical-align: top\"></td>\n",
       "    </tr>\n",
       "    <tr>\n",
       "        <td style=\"padding-left: 1em; padding-right: 1em; text-align: center; vertical-align: top\">tree_ID</td>\n",
       "        <td style=\"padding-left: 1em; padding-right: 1em; text-align: center; vertical-align: top\">tree ID</td>\n",
       "        <td style=\"padding-left: 1em; padding-right: 1em; text-align: center; vertical-align: top\">For sample of type \"live<br>leaf sample\" or \"root ...</td>\n",
       "        <td style=\"padding-left: 1em; padding-right: 1em; text-align: center; vertical-align: top\">Location</td>\n",
       "        <td style=\"padding-left: 1em; padding-right: 1em; text-align: center; vertical-align: top\"></td>\n",
       "    </tr>\n",
       "    <tr>\n",
       "        <td style=\"padding-left: 1em; padding-right: 1em; text-align: center; vertical-align: top\">sampling_location_on_grid</td>\n",
       "        <td style=\"padding-left: 1em; padding-right: 1em; text-align: center; vertical-align: top\">sampling location on grid</td>\n",
       "        <td style=\"padding-left: 1em; padding-right: 1em; text-align: center; vertical-align: top\">Original location on the<br>2D  grid system of the ...</td>\n",
       "        <td style=\"padding-left: 1em; padding-right: 1em; text-align: center; vertical-align: top\">Location</td>\n",
       "        <td style=\"padding-left: 1em; padding-right: 1em; text-align: center; vertical-align: top\"></td>\n",
       "    </tr>\n",
       "    <tr>\n",
       "        <td style=\"padding-left: 1em; padding-right: 1em; text-align: center; vertical-align: top\">sampling_location_height_<br>level ...</td>\n",
       "        <td style=\"padding-left: 1em; padding-right: 1em; text-align: center; vertical-align: top\">sampling location height<br>level ...</td>\n",
       "        <td style=\"padding-left: 1em; padding-right: 1em; text-align: center; vertical-align: top\">Original location height<br>level of the sample ...</td>\n",
       "        <td style=\"padding-left: 1em; padding-right: 1em; text-align: center; vertical-align: top\">Location</td>\n",
       "        <td style=\"padding-left: 1em; padding-right: 1em; text-align: center; vertical-align: top\"></td>\n",
       "    </tr>\n",
       "    <tr>\n",
       "        <td style=\"padding-left: 1em; padding-right: 1em; text-align: center; vertical-align: top\">sample_replicate_number</td>\n",
       "        <td style=\"padding-left: 1em; padding-right: 1em; text-align: center; vertical-align: top\">sample replicate number</td>\n",
       "        <td style=\"padding-left: 1em; padding-right: 1em; text-align: center; vertical-align: top\">Number of the current<br>experimental replicate ...</td>\n",
       "        <td style=\"padding-left: 1em; padding-right: 1em; text-align: center; vertical-align: top\">Specimen_description</td>\n",
       "        <td style=\"padding-left: 1em; padding-right: 1em; text-align: center; vertical-align: top\"></td>\n",
       "    </tr>\n",
       "    <tr>\n",
       "        <td style=\"padding-left: 1em; padding-right: 1em; text-align: center; vertical-align: top\">time_in_plastic_enclosure<br>_before_collection ...</td>\n",
       "        <td style=\"padding-left: 1em; padding-right: 1em; text-align: center; vertical-align: top\">time in plastic enclosure<br>before collection (in ...</td>\n",
       "        <td style=\"padding-left: 1em; padding-right: 1em; text-align: center; vertical-align: top\">Number of days spent in<br>the enclosure before ...</td>\n",
       "        <td style=\"padding-left: 1em; padding-right: 1em; text-align: center; vertical-align: top\">Collection</td>\n",
       "        <td style=\"padding-left: 1em; padding-right: 1em; text-align: center; vertical-align: top\">days</td>\n",
       "    </tr>\n",
       "    <tr>\n",
       "        <td style=\"padding-left: 1em; padding-right: 1em; text-align: center; vertical-align: top\">sample_treatment_before_c<br>ollection ...</td>\n",
       "        <td style=\"padding-left: 1em; padding-right: 1em; text-align: center; vertical-align: top\">sample treatment before<br>collection ...</td>\n",
       "        <td style=\"padding-left: 1em; padding-right: 1em; text-align: center; vertical-align: top\">Treatment performed on<br>the sample before ...</td>\n",
       "        <td style=\"padding-left: 1em; padding-right: 1em; text-align: center; vertical-align: top\">Collection</td>\n",
       "        <td style=\"padding-left: 1em; padding-right: 1em; text-align: center; vertical-align: top\"></td>\n",
       "    </tr>\n",
       "</table>\n",
       "<table frame=\"box\" rules=\"cols\">\n",
       "    <tr>\n",
       "        <th style=\"padding-left: 1em; padding-right: 1em; text-align: center\">Type</th>\n",
       "        <th style=\"padding-left: 1em; padding-right: 1em; text-align: center\">Aliases</th>\n",
       "    </tr>\n",
       "    <tr>\n",
       "        <td style=\"padding-left: 1em; padding-right: 1em; text-align: center; vertical-align: top\">string</td>\n",
       "        <td style=\"padding-left: 1em; padding-right: 1em; text-align: center; vertical-align: top\"></td>\n",
       "    </tr>\n",
       "    <tr>\n",
       "        <td style=\"padding-left: 1em; padding-right: 1em; text-align: center; vertical-align: top\">string</td>\n",
       "        <td style=\"padding-left: 1em; padding-right: 1em; text-align: center; vertical-align: top\"></td>\n",
       "    </tr>\n",
       "    <tr>\n",
       "        <td style=\"padding-left: 1em; padding-right: 1em; text-align: center; vertical-align: top\">string</td>\n",
       "        <td style=\"padding-left: 1em; padding-right: 1em; text-align: center; vertical-align: top\"></td>\n",
       "    </tr>\n",
       "    <tr>\n",
       "        <td style=\"padding-left: 1em; padding-right: 1em; text-align: center; vertical-align: top\">string</td>\n",
       "        <td style=\"padding-left: 1em; padding-right: 1em; text-align: center; vertical-align: top\"></td>\n",
       "    </tr>\n",
       "    <tr>\n",
       "        <td style=\"padding-left: 1em; padding-right: 1em; text-align: center; vertical-align: top\">string</td>\n",
       "        <td style=\"padding-left: 1em; padding-right: 1em; text-align: center; vertical-align: top\"></td>\n",
       "    </tr>\n",
       "    <tr>\n",
       "        <td style=\"padding-left: 1em; padding-right: 1em; text-align: center; vertical-align: top\">num;num</td>\n",
       "        <td style=\"padding-left: 1em; padding-right: 1em; text-align: center; vertical-align: top\"></td>\n",
       "    </tr>\n",
       "    <tr>\n",
       "        <td style=\"padding-left: 1em; padding-right: 1em; text-align: center; vertical-align: top\">num</td>\n",
       "        <td style=\"padding-left: 1em; padding-right: 1em; text-align: center; vertical-align: top\"></td>\n",
       "    </tr>\n",
       "    <tr>\n",
       "        <td style=\"padding-left: 1em; padding-right: 1em; text-align: center; vertical-align: top\">num</td>\n",
       "        <td style=\"padding-left: 1em; padding-right: 1em; text-align: center; vertical-align: top\"></td>\n",
       "    </tr>\n",
       "    <tr>\n",
       "        <td style=\"padding-left: 1em; padding-right: 1em; text-align: center; vertical-align: top\">num</td>\n",
       "        <td style=\"padding-left: 1em; padding-right: 1em; text-align: center; vertical-align: top\"></td>\n",
       "    </tr>\n",
       "    <tr>\n",
       "        <td style=\"padding-left: 1em; padding-right: 1em; text-align: center; vertical-align: top\">string</td>\n",
       "        <td style=\"padding-left: 1em; padding-right: 1em; text-align: center; vertical-align: top\"></td>\n",
       "    </tr>\n",
       "</table>\n",
       "[31 rows x 7 columns]<br/>Note: Only the head of the SFrame is printed.<br/>You can use print_rows(num_rows=m, num_columns=n) to print more rows and columns.\n",
       "</div>"
      ],
      "text/plain": [
       "Columns:\n",
       "\tTerm\tstr\n",
       "\tDisplayed_term\tstr\n",
       "\tDefinition\tstr\n",
       "\tSection_object\tstr\n",
       "\tUnits\tstr\n",
       "\tType\tstr\n",
       "\tAliases\tstr\n",
       "\n",
       "Rows: 31\n",
       "\n",
       "Data:\n",
       "+--------------------------------+--------------------------------+\n",
       "|              Term              |         Displayed_term         |\n",
       "+--------------------------------+--------------------------------+\n",
       "|           sample_ID            |           sample ID            |\n",
       "|          sample_type           |          sample type           |\n",
       "|     collection_protocol_ID     |     collection protocol ID     |\n",
       "|           tree_host            |           tree host            |\n",
       "|            tree_ID             |            tree ID             |\n",
       "|   sampling_location_on_grid    |   sampling location on grid    |\n",
       "| sampling_location_height_level | sampling location height level |\n",
       "|    sample_replicate_number     |    sample replicate number     |\n",
       "| time_in_plastic_enclosure_...  | time in plastic enclosure ...  |\n",
       "| sample_treatment_before_co...  | sample treatment before co...  |\n",
       "+--------------------------------+--------------------------------+\n",
       "+-------------------------------+----------------------+-------+---------+---------+\n",
       "|           Definition          |    Section_object    | Units |   Type  | Aliases |\n",
       "+-------------------------------+----------------------+-------+---------+---------+\n",
       "| Unique identifier for the ... | Specimen_description |       |  string |         |\n",
       "| type of sample. Follows on... | Specimen_description |       |  string |         |\n",
       "| ID for the protocol used d... |      Collection      |       |  string |         |\n",
       "| For sample of type \"live l... |       Location       |       |  string |         |\n",
       "| For sample of type \"live l... |       Location       |       |  string |         |\n",
       "| Original location on the 2... |       Location       |       | num;num |         |\n",
       "| Original location height l... |       Location       |       |   num   |         |\n",
       "| Number of the current expe... | Specimen_description |       |   num   |         |\n",
       "| Number of days spent in th... |      Collection      |  days |   num   |         |\n",
       "| Treatment performed on the... |      Collection      |       |  string |         |\n",
       "+-------------------------------+----------------------+-------+---------+---------+\n",
       "[31 rows x 7 columns]\n",
       "Note: Only the head of the SFrame is printed.\n",
       "You can use print_rows(num_rows=m, num_columns=n) to print more rows and columns."
      ]
     },
     "execution_count": 19,
     "metadata": {},
     "output_type": "execute_result"
    }
   ],
   "source": [
    "my_voc=graphlab.SFrame.read_csv(vocabulary_file, column_type_hints=str)\n",
    "my_voc"
   ]
  },
  {
   "cell_type": "code",
   "execution_count": 32,
   "metadata": {
    "collapsed": false
   },
   "outputs": [
    {
     "name": "stdout",
     "output_type": "stream",
     "text": [
      "['sample_type', 'sample_ID', 'parent_sample_name', 'parent_sample_ID']\n",
      "['date_of_subsampling', 'operator']\n",
      "[]\n",
      "{'sample_ID': 'string', 'sample_type': 'string', 'parent_sample_ID': 'string', 'parent_sample_name': 'string', 'date_of_subsampling': 'date', 'operator': 'string'}\n"
     ]
    }
   ],
   "source": [
    "# find the object categories and create type finder\n",
    "Specimen_description=[]\n",
    "Collection=[]\n",
    "No_object=[]\n",
    "attribute_types={}\n",
    "\n",
    "for i in my_frame.column_names():\n",
    "    curr_data=my_voc[(my_voc['Term'] == i)]\n",
    "    section=curr_data['Section_object']\n",
    "    att_type=curr_data['Type']\n",
    "    #add type in attribute_types\n",
    "    attribute_types[i] = att_type[0]\n",
    "    \n",
    "    #add the attribute in the object categories\n",
    "    if section[0] == \"Specimen_description\":\n",
    "        Specimen_description.append(i)\n",
    "    elif section[0] == \"Collection\":\n",
    "        Collection.append(i)\n",
    "    else:\n",
    "        No_object.append(i)\n",
    "        \n",
    "print(Specimen_description)\n",
    "print(Collection)\n",
    "print(No_object)\n",
    "\n",
    "print(attribute_types)"
   ]
  },
  {
   "cell_type": "code",
   "execution_count": 22,
   "metadata": {
    "collapsed": false
   },
   "outputs": [
    {
     "data": {
      "text/html": [
       "<div style=\"max-height:1000px;max-width:1500px;overflow:auto;\"><table frame=\"box\" rules=\"cols\">\n",
       "    <tr>\n",
       "        <th style=\"padding-left: 1em; padding-right: 1em; text-align: center\">Term</th>\n",
       "        <th style=\"padding-left: 1em; padding-right: 1em; text-align: center\">Displayed_term</th>\n",
       "        <th style=\"padding-left: 1em; padding-right: 1em; text-align: center\">Definition</th>\n",
       "        <th style=\"padding-left: 1em; padding-right: 1em; text-align: center\">Section_object</th>\n",
       "        <th style=\"padding-left: 1em; padding-right: 1em; text-align: center\">Units</th>\n",
       "        <th style=\"padding-left: 1em; padding-right: 1em; text-align: center\">Type</th>\n",
       "        <th style=\"padding-left: 1em; padding-right: 1em; text-align: center\">Aliases</th>\n",
       "    </tr>\n",
       "    <tr>\n",
       "        <td style=\"padding-left: 1em; padding-right: 1em; text-align: center; vertical-align: top\">sample_ID</td>\n",
       "        <td style=\"padding-left: 1em; padding-right: 1em; text-align: center; vertical-align: top\">sample ID</td>\n",
       "        <td style=\"padding-left: 1em; padding-right: 1em; text-align: center; vertical-align: top\">Unique identifier for the<br>sample. ...</td>\n",
       "        <td style=\"padding-left: 1em; padding-right: 1em; text-align: center; vertical-align: top\">Specimen_description</td>\n",
       "        <td style=\"padding-left: 1em; padding-right: 1em; text-align: center; vertical-align: top\"></td>\n",
       "        <td style=\"padding-left: 1em; padding-right: 1em; text-align: center; vertical-align: top\">string</td>\n",
       "        <td style=\"padding-left: 1em; padding-right: 1em; text-align: center; vertical-align: top\"></td>\n",
       "    </tr>\n",
       "</table>\n",
       "[? rows x 7 columns]<br/>Note: Only the head of the SFrame is printed. This SFrame is lazily evaluated.<br/>You can use sf.materialize() to force materialization.\n",
       "</div>"
      ],
      "text/plain": [
       "Columns:\n",
       "\tTerm\tstr\n",
       "\tDisplayed_term\tstr\n",
       "\tDefinition\tstr\n",
       "\tSection_object\tstr\n",
       "\tUnits\tstr\n",
       "\tType\tstr\n",
       "\tAliases\tstr\n",
       "\n",
       "Rows: Unknown\n",
       "\n",
       "Data:\n",
       "+-----------+----------------+-------------------------------+\n",
       "|    Term   | Displayed_term |           Definition          |\n",
       "+-----------+----------------+-------------------------------+\n",
       "| sample_ID |   sample ID    | Unique identifier for the ... |\n",
       "+-----------+----------------+-------------------------------+\n",
       "+----------------------+-------+--------+---------+\n",
       "|    Section_object    | Units |  Type  | Aliases |\n",
       "+----------------------+-------+--------+---------+\n",
       "| Specimen_description |       | string |         |\n",
       "+----------------------+-------+--------+---------+\n",
       "[? rows x 7 columns]\n",
       "Note: Only the head of the SFrame is printed. This SFrame is lazily evaluated.\n",
       "You can use sf.materialize() to force materialization."
      ]
     },
     "execution_count": 22,
     "metadata": {},
     "output_type": "execute_result"
    }
   ],
   "source": [
    "curr_data=my_voc[(my_voc['Term'] == \"sample_ID\")]\n",
    "curr_data"
   ]
  },
  {
   "cell_type": "code",
   "execution_count": 33,
   "metadata": {
    "collapsed": false
   },
   "outputs": [
    {
     "name": "stdout",
     "output_type": "stream",
     "text": [
      "{\"sample_type\":\"sub_live_leaf_sample\",\"sample_ID\":\"b2_pd_52\",\"parent_sample_name\":\"C1-H1-R2-2U\",\"parent_sample_ID\":\"b2_pd_1\",\"Collection\":{\"date_of_subsampling\":\"2019-03-25T00:00:00-07:00\",\"operator\":\"Laura Meredith\"}}\n",
      "{\"sample_type\":\"sub_live_leaf_sample\",\"sample_ID\":\"b2_pd_53\",\"parent_sample_name\":\"C1-H1-R3-2U\",\"parent_sample_ID\":\"b2_pd_2\",\"Collection\":{\"date_of_subsampling\":\"2019-03-25T00:00:00-07:00\",\"operator\":\"Laura Meredith\"}}\n",
      "{\"sample_type\":\"sub_live_leaf_sample\",\"sample_ID\":\"b2_pd_54\",\"parent_sample_name\":\"C1-H1-R1-4U\",\"parent_sample_ID\":\"b2_pd_3\",\"Collection\":{\"date_of_subsampling\":\"2019-03-26T00:00:00-07:00\",\"operator\":\"Laura Meredith\"}}\n",
      "{\"sample_type\":\"sub_live_leaf_sample\",\"sample_ID\":\"b2_pd_55\",\"parent_sample_name\":\"C1-H1-R2-4U\",\"parent_sample_ID\":\"b2_pd_4\",\"Collection\":{\"date_of_subsampling\":\"2019-03-26T00:00:00-07:00\",\"operator\":\"Laura Meredith\"}}\n",
      "{\"sample_type\":\"sub_live_leaf_sample\",\"sample_ID\":\"b2_pd_56\",\"parent_sample_name\":\"C1-H1-R3-4U\",\"parent_sample_ID\":\"b2_pd_5\",\"Collection\":{\"date_of_subsampling\":\"2019-03-27T00:00:00-07:00\",\"operator\":\"Laura Meredith\"}}\n",
      "{\"sample_type\":\"sub_live_leaf_sample\",\"sample_ID\":\"b2_pd_57\",\"parent_sample_name\":\"C1-H1-R1-4W\",\"parent_sample_ID\":\"b2_pd_6\",\"Collection\":{\"date_of_subsampling\":\"2019-03-26T00:00:00-07:00\",\"operator\":\"Laura Meredith\"}}\n",
      "{\"sample_type\":\"sub_live_leaf_sample\",\"sample_ID\":\"b2_pd_58\",\"parent_sample_name\":\"C1-H1-R2-4W\",\"parent_sample_ID\":\"b2_pd_7\",\"Collection\":{\"date_of_subsampling\":\"2019-03-26T00:00:00-07:00\",\"operator\":\"Laura Meredith\"}}\n",
      "{\"sample_type\":\"sub_live_leaf_sample\",\"sample_ID\":\"b2_pd_59\",\"parent_sample_name\":\"C1-H1-R3-4W\",\"parent_sample_ID\":\"b2_pd_8\",\"Collection\":{\"date_of_subsampling\":\"2019-03-27T00:00:00-07:00\",\"operator\":\"Laura Meredith\"}}\n",
      "{\"sample_type\":\"sub_live_leaf_sample\",\"sample_ID\":\"b2_pd_60\",\"parent_sample_name\":\"C2-H1-R1-1U\",\"parent_sample_ID\":\"b2_pd_10\",\"Collection\":{\"date_of_subsampling\":\"2019-03-25T00:00:00-07:00\",\"operator\":\"Laura Meredith\"}}\n",
      "{\"sample_type\":\"sub_live_leaf_sample\",\"sample_ID\":\"b2_pd_61\",\"parent_sample_name\":\"C2-H1-R2-1U\",\"parent_sample_ID\":\"b2_pd_11\",\"Collection\":{\"date_of_subsampling\":\"2019-03-25T00:00:00-07:00\",\"operator\":\"Laura Meredith\"}}\n",
      "{\"sample_type\":\"sub_live_leaf_sample\",\"sample_ID\":\"b2_pd_62\",\"parent_sample_name\":\"C2-H1-R3-1U\",\"parent_sample_ID\":\"b2_pd_12\",\"Collection\":{\"date_of_subsampling\":\"2019-03-25T00:00:00-07:00\",\"operator\":\"Laura Meredith\"}}\n",
      "{\"sample_type\":\"sub_live_leaf_sample\",\"sample_ID\":\"b2_pd_63\",\"parent_sample_name\":\"C2-H2-R1-1U\",\"parent_sample_ID\":\"b2_pd_13\",\"Collection\":{\"date_of_subsampling\":\"2019-03-25T00:00:00-07:00\",\"operator\":\"Laura Meredith\"}}\n",
      "{\"sample_type\":\"sub_live_leaf_sample\",\"sample_ID\":\"b2_pd_64\",\"parent_sample_name\":\"C2-H2-R2-1U\",\"parent_sample_ID\":\"b2_pd_14\",\"Collection\":{\"date_of_subsampling\":\"2019-03-25T00:00:00-07:00\",\"operator\":\"Laura Meredith\"}}\n",
      "{\"sample_type\":\"sub_live_leaf_sample\",\"sample_ID\":\"b2_pd_65\",\"parent_sample_name\":\"C2-H2-R3-1U\",\"parent_sample_ID\":\"b2_pd_15\",\"Collection\":{\"date_of_subsampling\":\"2019-03-25T00:00:00-07:00\",\"operator\":\"Laura Meredith\"}}\n",
      "{\"sample_type\":\"sub_live_leaf_sample\",\"sample_ID\":\"b2_pd_66\",\"parent_sample_name\":\"C2-H3-R1-1U\",\"parent_sample_ID\":\"b2_pd_16\",\"Collection\":{\"date_of_subsampling\":\"2019-03-25T00:00:00-07:00\",\"operator\":\"Laura Meredith\"}}\n",
      "{\"sample_type\":\"sub_live_leaf_sample\",\"sample_ID\":\"b2_pd_67\",\"parent_sample_name\":\"C2-H3-R2-1U\",\"parent_sample_ID\":\"b2_pd_17\",\"Collection\":{\"date_of_subsampling\":\"2019-03-25T00:00:00-07:00\",\"operator\":\"Laura Meredith\"}}\n",
      "{\"sample_type\":\"sub_live_leaf_sample\",\"sample_ID\":\"b2_pd_68\",\"parent_sample_name\":\"C2-H3-R3-1U\",\"parent_sample_ID\":\"b2_pd_18\",\"Collection\":{\"date_of_subsampling\":\"2019-03-25T00:00:00-07:00\",\"operator\":\"Laura Meredith\"}}\n",
      "{\"sample_type\":\"sub_live_leaf_sample\",\"sample_ID\":\"b2_pd_69\",\"parent_sample_name\":\"C2-H4-R1-1U\",\"parent_sample_ID\":\"b2_pd_19\",\"Collection\":{\"date_of_subsampling\":\"2019-03-25T00:00:00-07:00\",\"operator\":\"Laura Meredith\"}}\n",
      "{\"sample_type\":\"sub_live_leaf_sample\",\"sample_ID\":\"b2_pd_70\",\"parent_sample_name\":\"C2-H4-R2-1U\",\"parent_sample_ID\":\"b2_pd_20\",\"Collection\":{\"date_of_subsampling\":\"2019-03-25T00:00:00-07:00\",\"operator\":\"Laura Meredith\"}}\n",
      "{\"sample_type\":\"sub_live_leaf_sample\",\"sample_ID\":\"b2_pd_71\",\"parent_sample_name\":\"C2-H4-R3-1U\",\"parent_sample_ID\":\"b2_pd_21\",\"Collection\":{\"date_of_subsampling\":\"2019-03-25T00:00:00-07:00\",\"operator\":\"Laura Meredith\"}}\n",
      "{\"sample_type\":\"sub_live_leaf_sample\",\"sample_ID\":\"b2_pd_72\",\"parent_sample_name\":\"C3-H1-R1-1U\",\"parent_sample_ID\":\"b2_pd_22\",\"Collection\":{\"date_of_subsampling\":\"2019-03-25T00:00:00-07:00\",\"operator\":\"Laura Meredith\"}}\n",
      "{\"sample_type\":\"sub_live_leaf_sample\",\"sample_ID\":\"b2_pd_73\",\"parent_sample_name\":\"C3-H1-R2-1U\",\"parent_sample_ID\":\"b2_pd_23\",\"Collection\":{\"date_of_subsampling\":\"2019-03-25T00:00:00-07:00\",\"operator\":\"Laura Meredith\"}}\n",
      "{\"sample_type\":\"sub_live_leaf_sample\",\"sample_ID\":\"b2_pd_74\",\"parent_sample_name\":\"C3-H1-R3-1U\",\"parent_sample_ID\":\"b2_pd_24\",\"Collection\":{\"date_of_subsampling\":\"2019-03-25T00:00:00-07:00\",\"operator\":\"Laura Meredith\"}}\n",
      "{\"sample_type\":\"sub_live_leaf_sample\",\"sample_ID\":\"b2_pd_75\",\"parent_sample_name\":\"C3-H2-R1-1U\",\"parent_sample_ID\":\"b2_pd_25\",\"Collection\":{\"date_of_subsampling\":\"2019-03-25T00:00:00-07:00\",\"operator\":\"Laura Meredith\"}}\n",
      "{\"sample_type\":\"sub_live_leaf_sample\",\"sample_ID\":\"b2_pd_76\",\"parent_sample_name\":\"C3-H2-R2-1U\",\"parent_sample_ID\":\"b2_pd_26\",\"Collection\":{\"date_of_subsampling\":\"2019-03-25T00:00:00-07:00\",\"operator\":\"Laura Meredith\"}}\n",
      "{\"sample_type\":\"sub_live_leaf_sample\",\"sample_ID\":\"b2_pd_77\",\"parent_sample_name\":\"C3-H2-R3-1U\",\"parent_sample_ID\":\"b2_pd_27\",\"Collection\":{\"date_of_subsampling\":\"2019-03-25T00:00:00-07:00\",\"operator\":\"Laura Meredith\"}}\n",
      "{\"sample_type\":\"sub_live_leaf_sample\",\"sample_ID\":\"b2_pd_78\",\"parent_sample_name\":\"C3-H3-R1-1U\",\"parent_sample_ID\":\"b2_pd_28\",\"Collection\":{\"date_of_subsampling\":\"2019-03-25T00:00:00-07:00\",\"operator\":\"Laura Meredith\"}}\n",
      "{\"sample_type\":\"sub_live_leaf_sample\",\"sample_ID\":\"b2_pd_79\",\"parent_sample_name\":\"C3-H3-R2-1U\",\"parent_sample_ID\":\"b2_pd_29\",\"Collection\":{\"date_of_subsampling\":\"2019-03-25T00:00:00-07:00\",\"operator\":\"Laura Meredith\"}}\n",
      "{\"sample_type\":\"sub_live_leaf_sample\",\"sample_ID\":\"b2_pd_80\",\"parent_sample_name\":\"C3-H3-R3-1U\",\"parent_sample_ID\":\"b2_pd_30\",\"Collection\":{\"date_of_subsampling\":\"2019-03-25T00:00:00-07:00\",\"operator\":\"Laura Meredith\"}}\n",
      "{\"sample_type\":\"sub_live_leaf_sample\",\"sample_ID\":\"b2_pd_81\",\"parent_sample_name\":\"C3-H4-R1-1U\",\"parent_sample_ID\":\"b2_pd_31\",\"Collection\":{\"date_of_subsampling\":\"2019-03-25T00:00:00-07:00\",\"operator\":\"Laura Meredith\"}}\n",
      "{\"sample_type\":\"sub_live_leaf_sample\",\"sample_ID\":\"b2_pd_82\",\"parent_sample_name\":\"C3-H4-R3-1U\",\"parent_sample_ID\":\"b2_pd_32\",\"Collection\":{\"date_of_subsampling\":\"2019-03-26T00:00:00-07:00\",\"operator\":\"Laura Meredith\"}}\n",
      "{\"sample_type\":\"sub_live_leaf_sample\",\"sample_ID\":\"b2_pd_83\",\"parent_sample_name\":\"C3-H5-R1-1U\",\"parent_sample_ID\":\"b2_pd_33\",\"Collection\":{\"date_of_subsampling\":\"2019-03-26T00:00:00-07:00\",\"operator\":\"Laura Meredith\"}}\n",
      "{\"sample_type\":\"sub_live_leaf_sample\",\"sample_ID\":\"b2_pd_84\",\"parent_sample_name\":\"C3-H5-R2-1U\",\"parent_sample_ID\":\"b2_pd_34\",\"Collection\":{\"date_of_subsampling\":\"2019-03-26T00:00:00-07:00\",\"operator\":\"Laura Meredith\"}}\n",
      "{\"sample_type\":\"sub_live_leaf_sample\",\"sample_ID\":\"b2_pd_85\",\"parent_sample_name\":\"C3-H5-R3-1U\",\"parent_sample_ID\":\"b2_pd_35\",\"Collection\":{\"date_of_subsampling\":\"2019-03-26T00:00:00-07:00\",\"operator\":\"Laura Meredith\"}}\n",
      "{\"sample_type\":\"sub_live_leaf_sample\",\"sample_ID\":\"b2_pd_86\",\"parent_sample_name\":\"C4-H2-R1-1U\",\"parent_sample_ID\":\"b2_pd_37\",\"Collection\":{\"date_of_subsampling\":\"2019-03-26T00:00:00-07:00\",\"operator\":\"Laura Meredith\"}}\n",
      "{\"sample_type\":\"sub_live_leaf_sample\",\"sample_ID\":\"b2_pd_87\",\"parent_sample_name\":\"C4-H2-R2-1U\",\"parent_sample_ID\":\"b2_pd_38\",\"Collection\":{\"date_of_subsampling\":\"2019-03-26T00:00:00-07:00\",\"operator\":\"Laura Meredith\"}}\n",
      "{\"sample_type\":\"sub_live_leaf_sample\",\"sample_ID\":\"b2_pd_88\",\"parent_sample_name\":\"C4-H2-R3-1U\",\"parent_sample_ID\":\"b2_pd_39\",\"Collection\":{\"date_of_subsampling\":\"2019-03-26T00:00:00-07:00\",\"operator\":\"Laura Meredith\"}}\n",
      "{\"sample_type\":\"sub_live_leaf_sample\",\"sample_ID\":\"b2_pd_89\",\"parent_sample_name\":\"C4-H3-R1-1U\",\"parent_sample_ID\":\"b2_pd_40\",\"Collection\":{\"date_of_subsampling\":\"2019-03-26T00:00:00-07:00\",\"operator\":\"Laura Meredith\"}}\n",
      "{\"sample_type\":\"sub_live_leaf_sample\",\"sample_ID\":\"b2_pd_90\",\"parent_sample_name\":\"C4-H3-R2-1U\",\"parent_sample_ID\":\"b2_pd_41\",\"Collection\":{\"date_of_subsampling\":\"2019-03-26T00:00:00-07:00\",\"operator\":\"Laura Meredith\"}}\n",
      "{\"sample_type\":\"sub_live_leaf_sample\",\"sample_ID\":\"b2_pd_91\",\"parent_sample_name\":\"C4-H3-R3-1U\",\"parent_sample_ID\":\"b2_pd_42\",\"Collection\":{\"date_of_subsampling\":\"2019-03-26T00:00:00-07:00\",\"operator\":\"Laura Meredith\"}}\n",
      "{\"sample_type\":\"sub_live_leaf_sample\",\"sample_ID\":\"b2_pd_92\",\"parent_sample_name\":\"C4-H4-R2-1U\",\"parent_sample_ID\":\"b2_pd_44\",\"Collection\":{\"date_of_subsampling\":\"2019-03-26T00:00:00-07:00\",\"operator\":\"Laura Meredith\"}}\n",
      "{\"sample_type\":\"sub_live_leaf_sample\",\"sample_ID\":\"b2_pd_93\",\"parent_sample_name\":\"C4-H4-R3-1U\",\"parent_sample_ID\":\"b2_pd_45\",\"Collection\":{\"date_of_subsampling\":\"2019-03-26T00:00:00-07:00\",\"operator\":\"Laura Meredith\"}}\n",
      "{\"sample_type\":\"sub_live_leaf_sample\",\"sample_ID\":\"b2_pd_94\",\"parent_sample_name\":\"C4-H5-R1-1U\",\"parent_sample_ID\":\"b2_pd_46\",\"Collection\":{\"date_of_subsampling\":\"2019-03-26T00:00:00-07:00\",\"operator\":\"Laura Meredith\"}}\n",
      "{\"sample_type\":\"sub_live_leaf_sample\",\"sample_ID\":\"b2_pd_95\",\"parent_sample_name\":\"C4-H5-R2-1U\",\"parent_sample_ID\":\"b2_pd_47\",\"Collection\":{\"date_of_subsampling\":\"2019-03-26T00:00:00-07:00\",\"operator\":\"Laura Meredith\"}}\n",
      "{\"sample_type\":\"sub_live_leaf_sample\",\"sample_ID\":\"b2_pd_96\",\"parent_sample_name\":\"C4-H5-R3-1U\",\"parent_sample_ID\":\"b2_pd_48\",\"Collection\":{\"date_of_subsampling\":\"2019-03-26T00:00:00-07:00\",\"operator\":\"Laura Meredith\"}}\n",
      "{\"sample_type\":\"sub_live_leaf_sample\",\"sample_ID\":\"b2_pd_97\",\"parent_sample_name\":\"C4-H4-R1-1U\",\"parent_sample_ID\":\"b2_pd_50\",\"Collection\":{\"date_of_subsampling\":\"2019-03-26T00:00:00-07:00\",\"operator\":\"Laura Meredith\"}}\n"
     ]
    }
   ],
   "source": [
    "nb_samples=my_frame.shape[0]\n",
    "\n",
    "for i in range(0,nb_samples):\n",
    "    curr_slice=my_frame[i]\n",
    "    line=\"{\"\n",
    "    #process the specimen description\n",
    "    for i in range(len(Specimen_description)):\n",
    "        Key=Specimen_description[i]\n",
    "        if str(curr_slice[Specimen_description[i]])==\"NA\" or str(curr_slice[Specimen_description[i]])==\"None\":\n",
    "                attribute=\"\\\"NA\\\"\"\n",
    "        else:\n",
    "            if attribute_types[Key]==\"int\" or attribute_types[Key]==\"float\" or attribute_types[Key]==\"num\":\n",
    "                attribute=str(curr_slice[Specimen_description[i]])\n",
    "            elif attribute_types[Key]==\"date-time\":\n",
    "                attribute=\"{$date:\\\"\"+str(curr_slice[Specimen_description[i]])+\"\\\"}\"\n",
    "            else:\n",
    "                attribute=\"\\\"\"+str(curr_slice[Specimen_description[i]])+\"\\\"\"\n",
    "        line=line+\"\\\"\"+Key+\"\\\":\"+attribute+\",\"\n",
    "\n",
    "    #print(\"#### \"+line)\n",
    "    \n",
    "    #process the Collection description\n",
    "    line=line+\"\\\"Collection\\\":{\"\n",
    "    for i in range(len(Collection)):\n",
    "        Key=Collection[i]\n",
    "        if str(curr_slice[Collection[i]])==\"NA\" or str(curr_slice[Collection[i]])==\"None\":\n",
    "            attribute=\"\\\"NA\\\"\"\n",
    "        else:\n",
    "            if attribute_types[Key]==\"int\" or attribute_types[Key]==\"float\":\n",
    "                attribute=str(curr_slice[Collection[i]])\n",
    "            elif attribute_types[Key]==\"date-time\":\n",
    "                attribute=\"{$date:\\\"\"+str(curr_slice[Collection[i]])+\"\\\"}\"\n",
    "            else:\n",
    "                attribute=\"\\\"\"+str(curr_slice[Collection[i]])+\"\\\"\"\n",
    "        line=line+\"\\\"\"+Key+\"\\\":\"+attribute\n",
    "        \n",
    "        if i==len(Collection)-1:\n",
    "            line=line+\"}\"\n",
    "        else:\n",
    "            line=line+\",\"\n",
    "    \n",
    "    \n",
    "    line=line+\"}\"\n",
    "    fout.write(line+\"\\n\")\n",
    "    print(line)\n",
    "    "
   ]
  },
  {
   "cell_type": "code",
   "execution_count": 34,
   "metadata": {
    "collapsed": true
   },
   "outputs": [],
   "source": [
    "fout.close()"
   ]
  },
  {
   "cell_type": "code",
   "execution_count": null,
   "metadata": {
    "collapsed": true
   },
   "outputs": [],
   "source": []
  }
 ],
 "metadata": {
  "kernelspec": {
   "display_name": "Python 2",
   "language": "python",
   "name": "python2"
  },
  "language_info": {
   "codemirror_mode": {
    "name": "ipython",
    "version": 2
   },
   "file_extension": ".py",
   "mimetype": "text/x-python",
   "name": "python",
   "nbconvert_exporter": "python",
   "pygments_lexer": "ipython2",
   "version": "2.7.11"
  }
 },
 "nbformat": 4,
 "nbformat_minor": 0
}
